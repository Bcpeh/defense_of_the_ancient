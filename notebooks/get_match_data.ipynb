{
 "cells": [
  {
   "cell_type": "code",
   "execution_count": 1,
   "source": [
    "import requests, json, time, os"
   ],
   "outputs": [],
   "metadata": {}
  },
  {
   "cell_type": "code",
   "execution_count": 3,
   "source": [
    "print('Current working directory: ' + os.getcwd())\r\n",
    "os.chdir('../downloads')\r\n",
    "print('New working directory: ' + os.getcwd())"
   ],
   "outputs": [
    {
     "output_type": "stream",
     "name": "stdout",
     "text": [
      "Current working directory: c:\\Users\\Boonchong\\Desktop\\defense_of_the_ancient\\notebooks\n",
      "New working directory: c:\\Users\\Boonchong\\Desktop\\defense_of_the_ancient\\downloads\n"
     ]
    }
   ],
   "metadata": {}
  },
  {
   "cell_type": "code",
   "execution_count": 5,
   "source": [
    "print(os.getcwd() + os.sep +'230821')"
   ],
   "outputs": [
    {
     "output_type": "stream",
     "name": "stdout",
     "text": [
      "c:\\Users\\Boonchong\\Desktop\\defense_of_the_ancient\\downloads\\230821\n"
     ]
    }
   ],
   "metadata": {}
  },
  {
   "cell_type": "code",
   "execution_count": null,
   "source": [
    "def get_match_id(match_id):\r\n",
    "    request = requests.get(\"https://api.opendota.com/api/matches/\" + str(match_id))\r\n",
    "    if request.ok:\r\n",
    "        print(\"GET:\", str(match_id))\r\n",
    "        data = request.json()\r\n",
    "        file = open(os.getcwd() + os.sep+ '230821' + os.sep + str(match_id) + '_data.json', 'w')\r\n",
    "        json.dump(data, file)\r\n",
    "        file.close()\r\n",
    "        \r\n",
    "match_id = 6147419773\r\n",
    "#Most recent match id as of 230821 0047 SGT\r\n",
    "\r\n",
    "limit = 50000\r\n",
    "#opendota api only allow up to 50 000 calls per month, change the limit if you are on premium\r\n",
    "def download(match_id, limit):\r\n",
    "    count = 0\r\n",
    "    for i in range(limit):\r\n",
    "        if get_match_id(match_id - i):\r\n",
    "            count += 1\r\n",
    "        time.sleep(1.5)\r\n",
    "    print('Earliest match obtained: ' + (match_id - i))\r\n",
    "    print('Number of successful matches obtained: ' + count)\r\n",
    "# reducing by 1, would get most recent games w.r.t. to match id input\r\n",
    "\r\n",
    "\r\n",
    "\r\n"
   ],
   "outputs": [],
   "metadata": {}
  },
  {
   "cell_type": "code",
   "execution_count": 7,
   "source": [
    "def get_match_id(match_id):\r\n",
    "    request = requests.get(\"https://api.opendota.com/api/matches/\" + str(match_id))\r\n",
    "    if request.ok:\r\n",
    "        print(\"GET:\", str(match_id))\r\n",
    "        data = request.json()\r\n",
    "        file = open(os.getcwd() + os.sep+ '230821' + os.sep + str(match_id) + '_data.json', 'w')\r\n",
    "        json.dump(data, file)\r\n",
    "        file.close()\r\n",
    "get_match_id(6147419773)"
   ],
   "outputs": [
    {
     "output_type": "stream",
     "name": "stdout",
     "text": [
      "GET: 6147419773\n"
     ]
    }
   ],
   "metadata": {}
  },
  {
   "cell_type": "code",
   "execution_count": 9,
   "source": [
    "df = json.load('../downloads/230821/6147419773_data.json')"
   ],
   "outputs": [
    {
     "output_type": "error",
     "ename": "AttributeError",
     "evalue": "'str' object has no attribute 'read'",
     "traceback": [
      "\u001b[1;31m---------------------------------------------------------------------------\u001b[0m",
      "\u001b[1;31mAttributeError\u001b[0m                            Traceback (most recent call last)",
      "\u001b[1;32m<ipython-input-9-aec28c3e9eae>\u001b[0m in \u001b[0;36m<module>\u001b[1;34m\u001b[0m\n\u001b[1;32m----> 1\u001b[1;33m \u001b[0mdf\u001b[0m \u001b[1;33m=\u001b[0m \u001b[0mjson\u001b[0m\u001b[1;33m.\u001b[0m\u001b[0mload\u001b[0m\u001b[1;33m(\u001b[0m\u001b[1;34m'../downloads/230821/6147419773_data.json'\u001b[0m\u001b[1;33m)\u001b[0m\u001b[1;33m\u001b[0m\u001b[1;33m\u001b[0m\u001b[0m\n\u001b[0m",
      "\u001b[1;32mC:\\Program Files\\WindowsApps\\PythonSoftwareFoundation.Python.3.9_3.9.1776.0_x64__qbz5n2kfra8p0\\lib\\json\\__init__.py\u001b[0m in \u001b[0;36mload\u001b[1;34m(fp, cls, object_hook, parse_float, parse_int, parse_constant, object_pairs_hook, **kw)\u001b[0m\n\u001b[0;32m    291\u001b[0m     \u001b[0mkwarg\u001b[0m\u001b[1;33m;\u001b[0m \u001b[0motherwise\u001b[0m\u001b[0;31m \u001b[0m\u001b[0;31m`\u001b[0m\u001b[0;31m`\u001b[0m\u001b[0mJSONDecoder\u001b[0m\u001b[0;31m`\u001b[0m\u001b[0;31m`\u001b[0m \u001b[1;32mis\u001b[0m \u001b[0mused\u001b[0m\u001b[1;33m.\u001b[0m\u001b[1;33m\u001b[0m\u001b[1;33m\u001b[0m\u001b[0m\n\u001b[0;32m    292\u001b[0m     \"\"\"\n\u001b[1;32m--> 293\u001b[1;33m     return loads(fp.read(),\n\u001b[0m\u001b[0;32m    294\u001b[0m         \u001b[0mcls\u001b[0m\u001b[1;33m=\u001b[0m\u001b[0mcls\u001b[0m\u001b[1;33m,\u001b[0m \u001b[0mobject_hook\u001b[0m\u001b[1;33m=\u001b[0m\u001b[0mobject_hook\u001b[0m\u001b[1;33m,\u001b[0m\u001b[1;33m\u001b[0m\u001b[1;33m\u001b[0m\u001b[0m\n\u001b[0;32m    295\u001b[0m         \u001b[0mparse_float\u001b[0m\u001b[1;33m=\u001b[0m\u001b[0mparse_float\u001b[0m\u001b[1;33m,\u001b[0m \u001b[0mparse_int\u001b[0m\u001b[1;33m=\u001b[0m\u001b[0mparse_int\u001b[0m\u001b[1;33m,\u001b[0m\u001b[1;33m\u001b[0m\u001b[1;33m\u001b[0m\u001b[0m\n",
      "\u001b[1;31mAttributeError\u001b[0m: 'str' object has no attribute 'read'"
     ]
    }
   ],
   "metadata": {}
  }
 ],
 "metadata": {
  "orig_nbformat": 4,
  "language_info": {
   "name": "python",
   "version": "3.9.6",
   "mimetype": "text/x-python",
   "codemirror_mode": {
    "name": "ipython",
    "version": 3
   },
   "pygments_lexer": "ipython3",
   "nbconvert_exporter": "python",
   "file_extension": ".py"
  },
  "kernelspec": {
   "name": "python3",
   "display_name": "Python 3.9.6 64-bit (windows store)"
  },
  "interpreter": {
   "hash": "6ea7753b4279582e91abb61a7d947debf8ea5ca7325db9657cfb344ed8481790"
  }
 },
 "nbformat": 4,
 "nbformat_minor": 2
}
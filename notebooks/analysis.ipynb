{
 "cells": [
  {
   "cell_type": "code",
   "execution_count": 1,
   "source": [
    "import json, os\r\n",
    "import pandas as pd\r\n",
    "from matplotlib import pyplot as plt\r\n",
    "import plotly.express as px\r\n",
    "import plotly.graph_objects as go\r\n",
    "import numpy as np\r\n",
    "\r\n",
    "# To disable false warning\r\n",
    "# read from https://pandas.pydata.org/pandas-docs/stable/user_guide/indexing.html#returning-a-view-versus-a-copy\r\n",
    "pd.options.mode.chained_assignment = None"
   ],
   "outputs": [],
   "metadata": {}
  },
  {
   "cell_type": "code",
   "execution_count": 2,
   "source": [
    "print('Current working directory: ' + os.getcwd())\r\n",
    "os.chdir('../downloads')\r\n",
    "print('New working directory: ' + os.getcwd())"
   ],
   "outputs": [
    {
     "output_type": "stream",
     "name": "stdout",
     "text": [
      "Current working directory: c:\\Users\\Boonchong\\Desktop\\defense_of_the_ancient\\notebooks\n",
      "New working directory: c:\\Users\\Boonchong\\Desktop\\defense_of_the_ancient\\downloads\n"
     ]
    }
   ],
   "metadata": {}
  },
  {
   "cell_type": "code",
   "execution_count": 3,
   "source": [
    "# db = []\r\n",
    "# for f in os.listdir(os.getcwd()+ os.sep + '230821'):\r\n",
    "#     file = open(os.getcwd() + os.sep + '230821' + os.sep + f)\r\n",
    "#     data = json.load(file)\r\n",
    "#     file.close()"
   ],
   "outputs": [],
   "metadata": {}
  },
  {
   "cell_type": "code",
   "execution_count": 4,
   "source": [
    "date = '230821'"
   ],
   "outputs": [],
   "metadata": {}
  },
  {
   "cell_type": "code",
   "execution_count": 5,
   "source": [
    "for f in os.listdir(os.getcwd()+ os.sep + date):\r\n",
    "    file = open(os.getcwd() + os.sep + date + os.sep + f)\r\n",
    "    data = json.load(file)\r\n",
    "    file.close()\r\n",
    "    break"
   ],
   "outputs": [],
   "metadata": {}
  },
  {
   "cell_type": "code",
   "execution_count": 6,
   "source": [
    "data.keys()"
   ],
   "outputs": [
    {
     "output_type": "execute_result",
     "data": {
      "text/plain": [
       "dict_keys(['match_id', 'barracks_status_dire', 'barracks_status_radiant', 'chat', 'cluster', 'cosmetics', 'dire_score', 'dire_team_id', 'draft_timings', 'duration', 'engine', 'first_blood_time', 'game_mode', 'human_players', 'leagueid', 'lobby_type', 'match_seq_num', 'negative_votes', 'objectives', 'picks_bans', 'positive_votes', 'radiant_gold_adv', 'radiant_score', 'radiant_team_id', 'radiant_win', 'radiant_xp_adv', 'skill', 'start_time', 'teamfights', 'tower_status_dire', 'tower_status_radiant', 'version', 'replay_salt', 'series_id', 'series_type', 'players', 'patch', 'region', 'replay_url'])"
      ]
     },
     "metadata": {},
     "execution_count": 6
    }
   ],
   "metadata": {}
  },
  {
   "cell_type": "code",
   "execution_count": 7,
   "source": [
    "\r\n",
    "\r\n",
    "def convert_seconds(time):\r\n",
    "    ''''\r\n",
    "    Converts time from integer to Hour:Minutes:Seconds format\r\n",
    "    time: integer representation of time in seconds\r\n",
    "    '''\r\n",
    "    h = time//3600\r\n",
    "    sec = time%60\r\n",
    "    sec = ['0' + str(sec) if sec < 10 else sec][0]\r\n",
    "    if h > 0 :\r\n",
    "        time = time%3600\r\n",
    "        minutes = time//60\r\n",
    "        minutes = ['0' + str(minutes) if minutes < 10 else minutes][0]\r\n",
    "        return(str(h)+ ':' + str(minutes)+ ':' + str(sec))\r\n",
    "    else:\r\n",
    "        return(str(time//60)+ ':' + str(sec))"
   ],
   "outputs": [],
   "metadata": {}
  },
  {
   "cell_type": "code",
   "execution_count": 8,
   "source": [
    "convert_seconds(3900)"
   ],
   "outputs": [
    {
     "output_type": "execute_result",
     "data": {
      "text/plain": [
       "'1:05:00'"
      ]
     },
     "metadata": {},
     "execution_count": 8
    }
   ],
   "metadata": {}
  },
  {
   "cell_type": "code",
   "execution_count": 9,
   "source": [
    "convert_seconds(data['duration']), convert_seconds(data['first_blood_time'])"
   ],
   "outputs": [
    {
     "output_type": "execute_result",
     "data": {
      "text/plain": [
       "('31:59', '2:28')"
      ]
     },
     "metadata": {},
     "execution_count": 9
    }
   ],
   "metadata": {}
  },
  {
   "cell_type": "markdown",
   "source": [
    "# Can consider following dimensions\r\n",
    "## Pre Game\r\n",
    "- patch 49 -> 7.30\r\n",
    "- match_id\r\n",
    "- game_mode, human_players, skill, region\r\n",
    "\r\n",
    "## During Game\r\n",
    "- picks_ban # A list of dictionaries containing a boolean relating to whether the choice is a pick or a ban, the hero ID, the team the picked or banned it, and the order.\r\n",
    "- fb time\r\n",
    "\r\n",
    "## End game\r\n",
    "- radiant_win #True -> Radiant, False -> Dire\r\n",
    "- Duration\r\n",
    "- barracks_status_dire, barracks_status_radiant\r\n",
    "- dire_score, Radiant_score #integer signifying the number of kills\r\n",
    "\r\n",
    "\r\n"
   ],
   "metadata": {}
  },
  {
   "cell_type": "code",
   "execution_count": 10,
   "source": [
    "db = []\r\n",
    "for f in os.listdir(os.getcwd()+ os.sep + '230821'):\r\n",
    "    file = open(os.getcwd() + os.sep + '230821' + os.sep + f)\r\n",
    "    data = json.load(file)\r\n",
    "    file.close()\r\n",
    "    \r\n",
    "    #ignoring errors by skipping\r\n",
    "    if \"error\" in data.keys():\r\n",
    "        continue\r\n",
    "    # skip those with bots\r\n",
    "    if data[\"human_players\"] != 10:\r\n",
    "        continue\r\n",
    "    #skip those with no pick data\r\n",
    "    if not data[\"picks_bans\"]:\r\n",
    "        continue\r\n",
    "    \r\n",
    "    #radiant = team 0\r\n",
    "    win_team = 0\r\n",
    "    if data[\"radiant_win\"] == False:\r\n",
    "        win_team = 1\r\n",
    "    \r\n",
    "    # get pick info\r\n",
    "    picks = pd.DataFrame(data['picks_bans'])\r\n",
    "    picks = picks[picks.is_pick] # drop bans\r\n",
    "    picks = picks.sort_values('order')\r\n",
    "\r\n",
    "    #adding last 2 picks to database\r\n",
    "    db.append([data['match_id'],\r\n",
    "              picks.iloc[-1].hero_id,\r\n",
    "              picks.iloc[-1].team == win_team])\r\n",
    "    \r\n",
    "    db.append([data['match_id'],\r\n",
    "              picks.iloc[-2].hero_id,\r\n",
    "              picks.iloc[-2].team == win_team])\r\n",
    "db = pd.DataFrame(db, columns = ['match_id','hero_id','win'])\r\n",
    "    \r\n",
    "# keep heroes >= 50\r\n",
    "count = db.hero_id.value_counts()\r\n",
    "keep = count[count > 50].index\r\n",
    "db = db[db.hero_id.isin(keep)]\r\n",
    "\r\n",
    "#getting winrate\r\n",
    "winrate = db.groupby('hero_id')['win'].mean()\r\n",
    "winrate = winrate.sort_values()\r\n",
    "\r\n",
    "# changing hero id to name\r\n",
    "\r\n",
    "heroes = pd.read_csv('./hero_data/hero_stats_23August2021.csv')[['name','hero_id']] #only want the name and hero_id column\r\n",
    "lookup = {k:v[14:] for k,v in zip(heroes.hero_id, heroes.name)}\r\n",
    "\r\n",
    "def convert2name(id):\r\n",
    "    return[lookup[i] for i in id]\r\n",
    "    \r\n",
    "    "
   ],
   "outputs": [],
   "metadata": {}
  },
  {
   "cell_type": "code",
   "execution_count": 11,
   "source": [
    "heroes_data = pd.read_csv('./hero_data/hero_stats_23August2021.csv')\r\n",
    "heroes_data.columns"
   ],
   "outputs": [
    {
     "output_type": "execute_result",
     "data": {
      "text/plain": [
       "Index(['Unnamed: 0', 'id', 'name', 'localized_name', 'primary_attr',\n",
       "       'attack_type', 'roles', 'img', 'icon', 'base_health',\n",
       "       'base_health_regen', 'base_mana', 'base_mana_regen', 'base_armor',\n",
       "       'base_mr', 'base_attack_min', 'base_attack_max', 'base_str', 'base_agi',\n",
       "       'base_int', 'str_gain', 'agi_gain', 'int_gain', 'attack_range',\n",
       "       'projectile_speed', 'attack_rate', 'move_speed', 'turn_rate',\n",
       "       'cm_enabled', 'legs', 'hero_id', 'turbo_picks', 'turbo_wins', 'pro_win',\n",
       "       'pro_pick', 'pro_ban', '1_pick', '1_win', '2_pick', '2_win', '3_pick',\n",
       "       '3_win', '4_pick', '4_win', '5_pick', '5_win', '6_pick', '6_win',\n",
       "       '7_pick', '7_win', '8_pick', '8_win', 'null_pick', 'null_win'],\n",
       "      dtype='object')"
      ]
     },
     "metadata": {},
     "execution_count": 11
    }
   ],
   "metadata": {}
  },
  {
   "cell_type": "code",
   "execution_count": 12,
   "source": [
    "heroes_df = heroes_data[['hero_id', 'localized_name', \r\n",
    "                        'base_health','base_health_regen', 'base_mana', 'base_mana_regen', 'base_armor',\r\n",
    "                        'base_attack_min', 'base_str', 'base_agi','base_int',\r\n",
    "                        'str_gain', 'agi_gain', 'int_gain','primary_attr']]"
   ],
   "outputs": [],
   "metadata": {}
  },
  {
   "cell_type": "code",
   "execution_count": 13,
   "source": [
    "# heroes_df = heroes_df.set_index(['hero_id']).reset_index()\r\n",
    "# heroes_df\r\n"
   ],
   "outputs": [],
   "metadata": {}
  },
  {
   "cell_type": "code",
   "execution_count": 14,
   "source": [
    "def normalize(df):\r\n",
    "    result = df.copy()\r\n",
    "    for feature_name in df.columns:\r\n",
    "        max_value = df[feature_name].max()\r\n",
    "        min_value = df[feature_name].min()\r\n",
    "        result[feature_name] = (df[feature_name].copy() - min_value) / (max_value - min_value)\r\n",
    "    return result"
   ],
   "outputs": [],
   "metadata": {}
  },
  {
   "cell_type": "code",
   "execution_count": 15,
   "source": [
    "# health, armor, mana, hp regen, mana regen, 'base_attack_min'"
   ],
   "outputs": [],
   "metadata": {}
  },
  {
   "cell_type": "code",
   "execution_count": 16,
   "source": [
    "def calculate_starting_stats(base_stats, base_attribute, additional_values=0,decimal=0):\r\n",
    "    '''\r\n",
    "    \r\n",
    "    '''\r\n",
    "\r\n",
    "    start_stats = base_stats + (base_attribute*additional_values)\r\n",
    "    #Round off the value\r\n",
    "    if decimal != 0:\r\n",
    "        return round(start_stats,decimal)\r\n",
    "    else:\r\n",
    "        return round(start_stats)"
   ],
   "outputs": [],
   "metadata": {}
  },
  {
   "cell_type": "code",
   "execution_count": 17,
   "source": [
    "heroes_df['base_primary_attr'] = heroes_df.loc[:,'primary_attr'].apply(lambda row: 'base_' + row)"
   ],
   "outputs": [],
   "metadata": {}
  },
  {
   "cell_type": "code",
   "execution_count": 18,
   "source": [
    "heroes_df['health']=heroes_df.apply(lambda row: calculate_starting_stats(row['base_health'],row['base_str'],20), axis=1)\r\n",
    "heroes_df['armor']=heroes_df.apply(lambda row: calculate_starting_stats(row['base_armor'],row['base_agi'],(1/6)), axis=1)\r\n",
    "heroes_df['health_regen']=heroes_df.apply(lambda row: calculate_starting_stats(row['base_health_regen'],row['base_str'],(0.1),1), axis=1)\r\n",
    "heroes_df['mana']=heroes_df.apply(lambda row: calculate_starting_stats(row['base_mana'],row['base_str'],12), axis=1)\r\n",
    "heroes_df['mana_regen']=heroes_df.apply(lambda row: calculate_starting_stats(row['base_mana_regen'],row['base_str'],0.05,1), axis=1)\r\n",
    "i = heroes_df.columns.get_indexer(heroes_df['base_primary_attr'])\r\n",
    "heroes_df['attack_min'] = heroes_df['base_attack_min'] + heroes_df.values[heroes_df.index, i]\r\n",
    "# heroes_df['attack_min']=heroes_df.apply(lambda row: calculate_starting_stats(row['base_attack_min'],row['base_str']), axis=1)\r\n"
   ],
   "outputs": [],
   "metadata": {}
  },
  {
   "cell_type": "code",
   "execution_count": 19,
   "source": [
    "heroes_df = heroes_df.loc[:,('hero_id', 'localized_name', \r\n",
    "                        'health','health_regen', 'mana', 'mana_regen', 'armor',\r\n",
    "                        'attack_min', 'base_str', 'base_agi','base_int',\r\n",
    "                        'str_gain', 'agi_gain', 'int_gain')]"
   ],
   "outputs": [],
   "metadata": {}
  },
  {
   "cell_type": "code",
   "execution_count": 20,
   "source": [
    "heroes_df.head(5)"
   ],
   "outputs": [
    {
     "output_type": "execute_result",
     "data": {
      "text/html": [
       "<div>\n",
       "<style scoped>\n",
       "    .dataframe tbody tr th:only-of-type {\n",
       "        vertical-align: middle;\n",
       "    }\n",
       "\n",
       "    .dataframe tbody tr th {\n",
       "        vertical-align: top;\n",
       "    }\n",
       "\n",
       "    .dataframe thead th {\n",
       "        text-align: right;\n",
       "    }\n",
       "</style>\n",
       "<table border=\"1\" class=\"dataframe\">\n",
       "  <thead>\n",
       "    <tr style=\"text-align: right;\">\n",
       "      <th></th>\n",
       "      <th>hero_id</th>\n",
       "      <th>localized_name</th>\n",
       "      <th>health</th>\n",
       "      <th>health_regen</th>\n",
       "      <th>mana</th>\n",
       "      <th>mana_regen</th>\n",
       "      <th>armor</th>\n",
       "      <th>attack_min</th>\n",
       "      <th>base_str</th>\n",
       "      <th>base_agi</th>\n",
       "      <th>base_int</th>\n",
       "      <th>str_gain</th>\n",
       "      <th>agi_gain</th>\n",
       "      <th>int_gain</th>\n",
       "    </tr>\n",
       "  </thead>\n",
       "  <tbody>\n",
       "    <tr>\n",
       "      <th>0</th>\n",
       "      <td>1</td>\n",
       "      <td>Anti-Mage</td>\n",
       "      <td>660</td>\n",
       "      <td>2.6</td>\n",
       "      <td>351</td>\n",
       "      <td>1.2</td>\n",
       "      <td>4</td>\n",
       "      <td>53</td>\n",
       "      <td>23</td>\n",
       "      <td>24</td>\n",
       "      <td>12</td>\n",
       "      <td>1.6</td>\n",
       "      <td>2.8</td>\n",
       "      <td>1.8</td>\n",
       "    </tr>\n",
       "    <tr>\n",
       "      <th>1</th>\n",
       "      <td>2</td>\n",
       "      <td>Axe</td>\n",
       "      <td>700</td>\n",
       "      <td>5.2</td>\n",
       "      <td>375</td>\n",
       "      <td>1.2</td>\n",
       "      <td>2</td>\n",
       "      <td>52</td>\n",
       "      <td>25</td>\n",
       "      <td>20</td>\n",
       "      <td>18</td>\n",
       "      <td>3.4</td>\n",
       "      <td>2.2</td>\n",
       "      <td>1.6</td>\n",
       "    </tr>\n",
       "    <tr>\n",
       "      <th>2</th>\n",
       "      <td>3</td>\n",
       "      <td>Bane</td>\n",
       "      <td>640</td>\n",
       "      <td>2.5</td>\n",
       "      <td>339</td>\n",
       "      <td>1.1</td>\n",
       "      <td>5</td>\n",
       "      <td>57</td>\n",
       "      <td>22</td>\n",
       "      <td>22</td>\n",
       "      <td>22</td>\n",
       "      <td>2.6</td>\n",
       "      <td>2.6</td>\n",
       "      <td>2.6</td>\n",
       "    </tr>\n",
       "    <tr>\n",
       "      <th>3</th>\n",
       "      <td>4</td>\n",
       "      <td>Bloodseeker</td>\n",
       "      <td>680</td>\n",
       "      <td>2.7</td>\n",
       "      <td>363</td>\n",
       "      <td>1.2</td>\n",
       "      <td>6</td>\n",
       "      <td>57</td>\n",
       "      <td>24</td>\n",
       "      <td>22</td>\n",
       "      <td>17</td>\n",
       "      <td>2.7</td>\n",
       "      <td>3.4</td>\n",
       "      <td>2.0</td>\n",
       "    </tr>\n",
       "    <tr>\n",
       "      <th>4</th>\n",
       "      <td>5</td>\n",
       "      <td>Crystal Maiden</td>\n",
       "      <td>560</td>\n",
       "      <td>2.0</td>\n",
       "      <td>291</td>\n",
       "      <td>1.9</td>\n",
       "      <td>2</td>\n",
       "      <td>44</td>\n",
       "      <td>18</td>\n",
       "      <td>16</td>\n",
       "      <td>16</td>\n",
       "      <td>2.2</td>\n",
       "      <td>1.6</td>\n",
       "      <td>3.3</td>\n",
       "    </tr>\n",
       "  </tbody>\n",
       "</table>\n",
       "</div>"
      ],
      "text/plain": [
       "   hero_id  localized_name  health  health_regen  mana  mana_regen  armor  \\\n",
       "0        1       Anti-Mage     660           2.6   351         1.2      4   \n",
       "1        2             Axe     700           5.2   375         1.2      2   \n",
       "2        3            Bane     640           2.5   339         1.1      5   \n",
       "3        4     Bloodseeker     680           2.7   363         1.2      6   \n",
       "4        5  Crystal Maiden     560           2.0   291         1.9      2   \n",
       "\n",
       "  attack_min  base_str  base_agi  base_int  str_gain  agi_gain  int_gain  \n",
       "0         53        23        24        12       1.6       2.8       1.8  \n",
       "1         52        25        20        18       3.4       2.2       1.6  \n",
       "2         57        22        22        22       2.6       2.6       2.6  \n",
       "3         57        24        22        17       2.7       3.4       2.0  \n",
       "4         44        18        16        16       2.2       1.6       3.3  "
      ]
     },
     "metadata": {},
     "execution_count": 20
    }
   ],
   "metadata": {}
  },
  {
   "cell_type": "code",
   "execution_count": 21,
   "source": [
    "hero_list = heroes_data['localized_name'].tolist()\r\n",
    "hero_list"
   ],
   "outputs": [
    {
     "output_type": "execute_result",
     "data": {
      "text/plain": [
       "['Anti-Mage',\n",
       " 'Axe',\n",
       " 'Bane',\n",
       " 'Bloodseeker',\n",
       " 'Crystal Maiden',\n",
       " 'Drow Ranger',\n",
       " 'Earthshaker',\n",
       " 'Juggernaut',\n",
       " 'Mirana',\n",
       " 'Morphling',\n",
       " 'Shadow Fiend',\n",
       " 'Phantom Lancer',\n",
       " 'Puck',\n",
       " 'Pudge',\n",
       " 'Razor',\n",
       " 'Sand King',\n",
       " 'Storm Spirit',\n",
       " 'Sven',\n",
       " 'Tiny',\n",
       " 'Vengeful Spirit',\n",
       " 'Windranger',\n",
       " 'Zeus',\n",
       " 'Kunkka',\n",
       " 'Lina',\n",
       " 'Lion',\n",
       " 'Shadow Shaman',\n",
       " 'Slardar',\n",
       " 'Tidehunter',\n",
       " 'Witch Doctor',\n",
       " 'Lich',\n",
       " 'Riki',\n",
       " 'Enigma',\n",
       " 'Tinker',\n",
       " 'Sniper',\n",
       " 'Necrophos',\n",
       " 'Warlock',\n",
       " 'Beastmaster',\n",
       " 'Queen of Pain',\n",
       " 'Venomancer',\n",
       " 'Faceless Void',\n",
       " 'Wraith King',\n",
       " 'Death Prophet',\n",
       " 'Phantom Assassin',\n",
       " 'Pugna',\n",
       " 'Templar Assassin',\n",
       " 'Viper',\n",
       " 'Luna',\n",
       " 'Dragon Knight',\n",
       " 'Dazzle',\n",
       " 'Clockwerk',\n",
       " 'Leshrac',\n",
       " \"Nature's Prophet\",\n",
       " 'Lifestealer',\n",
       " 'Dark Seer',\n",
       " 'Clinkz',\n",
       " 'Omniknight',\n",
       " 'Enchantress',\n",
       " 'Huskar',\n",
       " 'Night Stalker',\n",
       " 'Broodmother',\n",
       " 'Bounty Hunter',\n",
       " 'Weaver',\n",
       " 'Jakiro',\n",
       " 'Batrider',\n",
       " 'Chen',\n",
       " 'Spectre',\n",
       " 'Ancient Apparition',\n",
       " 'Doom',\n",
       " 'Ursa',\n",
       " 'Spirit Breaker',\n",
       " 'Gyrocopter',\n",
       " 'Alchemist',\n",
       " 'Invoker',\n",
       " 'Silencer',\n",
       " 'Outworld Devourer',\n",
       " 'Lycan',\n",
       " 'Brewmaster',\n",
       " 'Shadow Demon',\n",
       " 'Lone Druid',\n",
       " 'Chaos Knight',\n",
       " 'Meepo',\n",
       " 'Treant Protector',\n",
       " 'Ogre Magi',\n",
       " 'Undying',\n",
       " 'Rubick',\n",
       " 'Disruptor',\n",
       " 'Nyx Assassin',\n",
       " 'Naga Siren',\n",
       " 'Keeper of the Light',\n",
       " 'Io',\n",
       " 'Visage',\n",
       " 'Slark',\n",
       " 'Medusa',\n",
       " 'Troll Warlord',\n",
       " 'Centaur Warrunner',\n",
       " 'Magnus',\n",
       " 'Timbersaw',\n",
       " 'Bristleback',\n",
       " 'Tusk',\n",
       " 'Skywrath Mage',\n",
       " 'Abaddon',\n",
       " 'Elder Titan',\n",
       " 'Legion Commander',\n",
       " 'Techies',\n",
       " 'Ember Spirit',\n",
       " 'Earth Spirit',\n",
       " 'Underlord',\n",
       " 'Terrorblade',\n",
       " 'Phoenix',\n",
       " 'Oracle',\n",
       " 'Winter Wyvern',\n",
       " 'Arc Warden',\n",
       " 'Monkey King',\n",
       " 'Dark Willow',\n",
       " 'Pangolier',\n",
       " 'Grimstroke',\n",
       " 'Hoodwink',\n",
       " 'Void Spirit',\n",
       " 'Snapfire',\n",
       " 'Mars',\n",
       " 'Dawnbreaker']"
      ]
     },
     "metadata": {},
     "execution_count": 21
    }
   ],
   "metadata": {}
  },
  {
   "cell_type": "code",
   "execution_count": null,
   "source": [],
   "outputs": [],
   "metadata": {}
  },
  {
   "cell_type": "code",
   "execution_count": 22,
   "source": [
    "heroes_df.columns"
   ],
   "outputs": [
    {
     "output_type": "execute_result",
     "data": {
      "text/plain": [
       "Index(['hero_id', 'localized_name', 'health', 'health_regen', 'mana',\n",
       "       'mana_regen', 'armor', 'attack_min', 'base_str', 'base_agi', 'base_int',\n",
       "       'str_gain', 'agi_gain', 'int_gain'],\n",
       "      dtype='object')"
      ]
     },
     "metadata": {},
     "execution_count": 22
    }
   ],
   "metadata": {}
  },
  {
   "cell_type": "code",
   "execution_count": 23,
   "source": [
    "target_cols = ['health','health_regen', 'mana', 'mana_regen', 'armor', \r\n",
    "            'attack_min','base_str', 'base_agi','base_int',\r\n",
    "            'str_gain', 'agi_gain', 'int_gain']\r\n"
   ],
   "outputs": [],
   "metadata": {}
  },
  {
   "cell_type": "code",
   "execution_count": 24,
   "source": [
    "heroes_df[target_cols] = heroes_df[target_cols].apply(lambda x: (x - x.min()) / (x.max() - x.min()))\r\n",
    "heroes_df"
   ],
   "outputs": [
    {
     "output_type": "execute_result",
     "data": {
      "text/html": [
       "<div>\n",
       "<style scoped>\n",
       "    .dataframe tbody tr th:only-of-type {\n",
       "        vertical-align: middle;\n",
       "    }\n",
       "\n",
       "    .dataframe tbody tr th {\n",
       "        vertical-align: top;\n",
       "    }\n",
       "\n",
       "    .dataframe thead th {\n",
       "        text-align: right;\n",
       "    }\n",
       "</style>\n",
       "<table border=\"1\" class=\"dataframe\">\n",
       "  <thead>\n",
       "    <tr style=\"text-align: right;\">\n",
       "      <th></th>\n",
       "      <th>hero_id</th>\n",
       "      <th>localized_name</th>\n",
       "      <th>health</th>\n",
       "      <th>health_regen</th>\n",
       "      <th>mana</th>\n",
       "      <th>mana_regen</th>\n",
       "      <th>armor</th>\n",
       "      <th>attack_min</th>\n",
       "      <th>base_str</th>\n",
       "      <th>base_agi</th>\n",
       "      <th>base_int</th>\n",
       "      <th>str_gain</th>\n",
       "      <th>agi_gain</th>\n",
       "      <th>int_gain</th>\n",
       "    </tr>\n",
       "  </thead>\n",
       "  <tbody>\n",
       "    <tr>\n",
       "      <th>0</th>\n",
       "      <td>1</td>\n",
       "      <td>Anti-Mage</td>\n",
       "      <td>0.583333</td>\n",
       "      <td>0.189189</td>\n",
       "      <td>0.583333</td>\n",
       "      <td>0.333333</td>\n",
       "      <td>0.444444</td>\n",
       "      <td>0.37037</td>\n",
       "      <td>0.583333</td>\n",
       "      <td>0.705882</td>\n",
       "      <td>0.000000</td>\n",
       "      <td>0.032258</td>\n",
       "      <td>0.636364</td>\n",
       "      <td>0.190476</td>\n",
       "    </tr>\n",
       "    <tr>\n",
       "      <th>1</th>\n",
       "      <td>2</td>\n",
       "      <td>Axe</td>\n",
       "      <td>0.750000</td>\n",
       "      <td>0.891892</td>\n",
       "      <td>0.750000</td>\n",
       "      <td>0.333333</td>\n",
       "      <td>0.222222</td>\n",
       "      <td>0.351852</td>\n",
       "      <td>0.750000</td>\n",
       "      <td>0.588235</td>\n",
       "      <td>0.333333</td>\n",
       "      <td>0.612903</td>\n",
       "      <td>0.500000</td>\n",
       "      <td>0.142857</td>\n",
       "    </tr>\n",
       "    <tr>\n",
       "      <th>2</th>\n",
       "      <td>3</td>\n",
       "      <td>Bane</td>\n",
       "      <td>0.500000</td>\n",
       "      <td>0.162162</td>\n",
       "      <td>0.500000</td>\n",
       "      <td>0.250000</td>\n",
       "      <td>0.555556</td>\n",
       "      <td>0.444444</td>\n",
       "      <td>0.500000</td>\n",
       "      <td>0.647059</td>\n",
       "      <td>0.555556</td>\n",
       "      <td>0.354839</td>\n",
       "      <td>0.590909</td>\n",
       "      <td>0.380952</td>\n",
       "    </tr>\n",
       "    <tr>\n",
       "      <th>3</th>\n",
       "      <td>4</td>\n",
       "      <td>Bloodseeker</td>\n",
       "      <td>0.666667</td>\n",
       "      <td>0.216216</td>\n",
       "      <td>0.666667</td>\n",
       "      <td>0.333333</td>\n",
       "      <td>0.666667</td>\n",
       "      <td>0.444444</td>\n",
       "      <td>0.666667</td>\n",
       "      <td>0.647059</td>\n",
       "      <td>0.277778</td>\n",
       "      <td>0.387097</td>\n",
       "      <td>0.772727</td>\n",
       "      <td>0.238095</td>\n",
       "    </tr>\n",
       "    <tr>\n",
       "      <th>4</th>\n",
       "      <td>5</td>\n",
       "      <td>Crystal Maiden</td>\n",
       "      <td>0.166667</td>\n",
       "      <td>0.027027</td>\n",
       "      <td>0.166667</td>\n",
       "      <td>0.916667</td>\n",
       "      <td>0.222222</td>\n",
       "      <td>0.203704</td>\n",
       "      <td>0.166667</td>\n",
       "      <td>0.470588</td>\n",
       "      <td>0.222222</td>\n",
       "      <td>0.225806</td>\n",
       "      <td>0.363636</td>\n",
       "      <td>0.547619</td>\n",
       "    </tr>\n",
       "    <tr>\n",
       "      <th>...</th>\n",
       "      <td>...</td>\n",
       "      <td>...</td>\n",
       "      <td>...</td>\n",
       "      <td>...</td>\n",
       "      <td>...</td>\n",
       "      <td>...</td>\n",
       "      <td>...</td>\n",
       "      <td>...</td>\n",
       "      <td>...</td>\n",
       "      <td>...</td>\n",
       "      <td>...</td>\n",
       "      <td>...</td>\n",
       "      <td>...</td>\n",
       "      <td>...</td>\n",
       "    </tr>\n",
       "    <tr>\n",
       "      <th>116</th>\n",
       "      <td>123</td>\n",
       "      <td>Hoodwink</td>\n",
       "      <td>0.083333</td>\n",
       "      <td>0.027027</td>\n",
       "      <td>0.083333</td>\n",
       "      <td>0.083333</td>\n",
       "      <td>0.444444</td>\n",
       "      <td>0.240741</td>\n",
       "      <td>0.083333</td>\n",
       "      <td>0.705882</td>\n",
       "      <td>0.500000</td>\n",
       "      <td>0.161290</td>\n",
       "      <td>0.818182</td>\n",
       "      <td>0.452381</td>\n",
       "    </tr>\n",
       "    <tr>\n",
       "      <th>117</th>\n",
       "      <td>126</td>\n",
       "      <td>Void Spirit</td>\n",
       "      <td>0.500000</td>\n",
       "      <td>0.162162</td>\n",
       "      <td>0.500000</td>\n",
       "      <td>0.750000</td>\n",
       "      <td>0.222222</td>\n",
       "      <td>0.388889</td>\n",
       "      <td>0.500000</td>\n",
       "      <td>0.558824</td>\n",
       "      <td>0.666667</td>\n",
       "      <td>0.354839</td>\n",
       "      <td>0.500000</td>\n",
       "      <td>0.500000</td>\n",
       "    </tr>\n",
       "    <tr>\n",
       "      <th>118</th>\n",
       "      <td>128</td>\n",
       "      <td>Snapfire</td>\n",
       "      <td>0.333333</td>\n",
       "      <td>0.081081</td>\n",
       "      <td>0.333333</td>\n",
       "      <td>0.166667</td>\n",
       "      <td>0.444444</td>\n",
       "      <td>0.240741</td>\n",
       "      <td>0.333333</td>\n",
       "      <td>0.470588</td>\n",
       "      <td>0.500000</td>\n",
       "      <td>0.645161</td>\n",
       "      <td>0.431818</td>\n",
       "      <td>0.285714</td>\n",
       "    </tr>\n",
       "    <tr>\n",
       "      <th>119</th>\n",
       "      <td>129</td>\n",
       "      <td>Mars</td>\n",
       "      <td>0.583333</td>\n",
       "      <td>0.189189</td>\n",
       "      <td>0.583333</td>\n",
       "      <td>0.750000</td>\n",
       "      <td>0.222222</td>\n",
       "      <td>0.351852</td>\n",
       "      <td>0.583333</td>\n",
       "      <td>0.588235</td>\n",
       "      <td>0.500000</td>\n",
       "      <td>0.612903</td>\n",
       "      <td>0.386364</td>\n",
       "      <td>0.285714</td>\n",
       "    </tr>\n",
       "    <tr>\n",
       "      <th>120</th>\n",
       "      <td>135</td>\n",
       "      <td>Dawnbreaker</td>\n",
       "      <td>0.833333</td>\n",
       "      <td>0.270270</td>\n",
       "      <td>0.833333</td>\n",
       "      <td>0.416667</td>\n",
       "      <td>0.444444</td>\n",
       "      <td>0.444444</td>\n",
       "      <td>0.833333</td>\n",
       "      <td>0.411765</td>\n",
       "      <td>0.444444</td>\n",
       "      <td>0.677419</td>\n",
       "      <td>0.386364</td>\n",
       "      <td>0.285714</td>\n",
       "    </tr>\n",
       "  </tbody>\n",
       "</table>\n",
       "<p>121 rows × 14 columns</p>\n",
       "</div>"
      ],
      "text/plain": [
       "     hero_id  localized_name    health  health_regen      mana  mana_regen  \\\n",
       "0          1       Anti-Mage  0.583333      0.189189  0.583333    0.333333   \n",
       "1          2             Axe  0.750000      0.891892  0.750000    0.333333   \n",
       "2          3            Bane  0.500000      0.162162  0.500000    0.250000   \n",
       "3          4     Bloodseeker  0.666667      0.216216  0.666667    0.333333   \n",
       "4          5  Crystal Maiden  0.166667      0.027027  0.166667    0.916667   \n",
       "..       ...             ...       ...           ...       ...         ...   \n",
       "116      123        Hoodwink  0.083333      0.027027  0.083333    0.083333   \n",
       "117      126     Void Spirit  0.500000      0.162162  0.500000    0.750000   \n",
       "118      128        Snapfire  0.333333      0.081081  0.333333    0.166667   \n",
       "119      129            Mars  0.583333      0.189189  0.583333    0.750000   \n",
       "120      135     Dawnbreaker  0.833333      0.270270  0.833333    0.416667   \n",
       "\n",
       "        armor attack_min  base_str  base_agi  base_int  str_gain  agi_gain  \\\n",
       "0    0.444444    0.37037  0.583333  0.705882  0.000000  0.032258  0.636364   \n",
       "1    0.222222   0.351852  0.750000  0.588235  0.333333  0.612903  0.500000   \n",
       "2    0.555556   0.444444  0.500000  0.647059  0.555556  0.354839  0.590909   \n",
       "3    0.666667   0.444444  0.666667  0.647059  0.277778  0.387097  0.772727   \n",
       "4    0.222222   0.203704  0.166667  0.470588  0.222222  0.225806  0.363636   \n",
       "..        ...        ...       ...       ...       ...       ...       ...   \n",
       "116  0.444444   0.240741  0.083333  0.705882  0.500000  0.161290  0.818182   \n",
       "117  0.222222   0.388889  0.500000  0.558824  0.666667  0.354839  0.500000   \n",
       "118  0.444444   0.240741  0.333333  0.470588  0.500000  0.645161  0.431818   \n",
       "119  0.222222   0.351852  0.583333  0.588235  0.500000  0.612903  0.386364   \n",
       "120  0.444444   0.444444  0.833333  0.411765  0.444444  0.677419  0.386364   \n",
       "\n",
       "     int_gain  \n",
       "0    0.190476  \n",
       "1    0.142857  \n",
       "2    0.380952  \n",
       "3    0.238095  \n",
       "4    0.547619  \n",
       "..        ...  \n",
       "116  0.452381  \n",
       "117  0.500000  \n",
       "118  0.285714  \n",
       "119  0.285714  \n",
       "120  0.285714  \n",
       "\n",
       "[121 rows x 14 columns]"
      ]
     },
     "metadata": {},
     "execution_count": 24
    }
   ],
   "metadata": {}
  },
  {
   "cell_type": "code",
   "execution_count": 25,
   "source": [
    "heroes_df = heroes_df.fillna(0)\r\n",
    "heroes_df"
   ],
   "outputs": [
    {
     "output_type": "execute_result",
     "data": {
      "text/html": [
       "<div>\n",
       "<style scoped>\n",
       "    .dataframe tbody tr th:only-of-type {\n",
       "        vertical-align: middle;\n",
       "    }\n",
       "\n",
       "    .dataframe tbody tr th {\n",
       "        vertical-align: top;\n",
       "    }\n",
       "\n",
       "    .dataframe thead th {\n",
       "        text-align: right;\n",
       "    }\n",
       "</style>\n",
       "<table border=\"1\" class=\"dataframe\">\n",
       "  <thead>\n",
       "    <tr style=\"text-align: right;\">\n",
       "      <th></th>\n",
       "      <th>hero_id</th>\n",
       "      <th>localized_name</th>\n",
       "      <th>health</th>\n",
       "      <th>health_regen</th>\n",
       "      <th>mana</th>\n",
       "      <th>mana_regen</th>\n",
       "      <th>armor</th>\n",
       "      <th>attack_min</th>\n",
       "      <th>base_str</th>\n",
       "      <th>base_agi</th>\n",
       "      <th>base_int</th>\n",
       "      <th>str_gain</th>\n",
       "      <th>agi_gain</th>\n",
       "      <th>int_gain</th>\n",
       "    </tr>\n",
       "  </thead>\n",
       "  <tbody>\n",
       "    <tr>\n",
       "      <th>0</th>\n",
       "      <td>1</td>\n",
       "      <td>Anti-Mage</td>\n",
       "      <td>0.583333</td>\n",
       "      <td>0.189189</td>\n",
       "      <td>0.583333</td>\n",
       "      <td>0.333333</td>\n",
       "      <td>0.444444</td>\n",
       "      <td>0.370370</td>\n",
       "      <td>0.583333</td>\n",
       "      <td>0.705882</td>\n",
       "      <td>0.000000</td>\n",
       "      <td>0.032258</td>\n",
       "      <td>0.636364</td>\n",
       "      <td>0.190476</td>\n",
       "    </tr>\n",
       "    <tr>\n",
       "      <th>1</th>\n",
       "      <td>2</td>\n",
       "      <td>Axe</td>\n",
       "      <td>0.750000</td>\n",
       "      <td>0.891892</td>\n",
       "      <td>0.750000</td>\n",
       "      <td>0.333333</td>\n",
       "      <td>0.222222</td>\n",
       "      <td>0.351852</td>\n",
       "      <td>0.750000</td>\n",
       "      <td>0.588235</td>\n",
       "      <td>0.333333</td>\n",
       "      <td>0.612903</td>\n",
       "      <td>0.500000</td>\n",
       "      <td>0.142857</td>\n",
       "    </tr>\n",
       "    <tr>\n",
       "      <th>2</th>\n",
       "      <td>3</td>\n",
       "      <td>Bane</td>\n",
       "      <td>0.500000</td>\n",
       "      <td>0.162162</td>\n",
       "      <td>0.500000</td>\n",
       "      <td>0.250000</td>\n",
       "      <td>0.555556</td>\n",
       "      <td>0.444444</td>\n",
       "      <td>0.500000</td>\n",
       "      <td>0.647059</td>\n",
       "      <td>0.555556</td>\n",
       "      <td>0.354839</td>\n",
       "      <td>0.590909</td>\n",
       "      <td>0.380952</td>\n",
       "    </tr>\n",
       "    <tr>\n",
       "      <th>3</th>\n",
       "      <td>4</td>\n",
       "      <td>Bloodseeker</td>\n",
       "      <td>0.666667</td>\n",
       "      <td>0.216216</td>\n",
       "      <td>0.666667</td>\n",
       "      <td>0.333333</td>\n",
       "      <td>0.666667</td>\n",
       "      <td>0.444444</td>\n",
       "      <td>0.666667</td>\n",
       "      <td>0.647059</td>\n",
       "      <td>0.277778</td>\n",
       "      <td>0.387097</td>\n",
       "      <td>0.772727</td>\n",
       "      <td>0.238095</td>\n",
       "    </tr>\n",
       "    <tr>\n",
       "      <th>4</th>\n",
       "      <td>5</td>\n",
       "      <td>Crystal Maiden</td>\n",
       "      <td>0.166667</td>\n",
       "      <td>0.027027</td>\n",
       "      <td>0.166667</td>\n",
       "      <td>0.916667</td>\n",
       "      <td>0.222222</td>\n",
       "      <td>0.203704</td>\n",
       "      <td>0.166667</td>\n",
       "      <td>0.470588</td>\n",
       "      <td>0.222222</td>\n",
       "      <td>0.225806</td>\n",
       "      <td>0.363636</td>\n",
       "      <td>0.547619</td>\n",
       "    </tr>\n",
       "    <tr>\n",
       "      <th>...</th>\n",
       "      <td>...</td>\n",
       "      <td>...</td>\n",
       "      <td>...</td>\n",
       "      <td>...</td>\n",
       "      <td>...</td>\n",
       "      <td>...</td>\n",
       "      <td>...</td>\n",
       "      <td>...</td>\n",
       "      <td>...</td>\n",
       "      <td>...</td>\n",
       "      <td>...</td>\n",
       "      <td>...</td>\n",
       "      <td>...</td>\n",
       "      <td>...</td>\n",
       "    </tr>\n",
       "    <tr>\n",
       "      <th>116</th>\n",
       "      <td>123</td>\n",
       "      <td>Hoodwink</td>\n",
       "      <td>0.083333</td>\n",
       "      <td>0.027027</td>\n",
       "      <td>0.083333</td>\n",
       "      <td>0.083333</td>\n",
       "      <td>0.444444</td>\n",
       "      <td>0.240741</td>\n",
       "      <td>0.083333</td>\n",
       "      <td>0.705882</td>\n",
       "      <td>0.500000</td>\n",
       "      <td>0.161290</td>\n",
       "      <td>0.818182</td>\n",
       "      <td>0.452381</td>\n",
       "    </tr>\n",
       "    <tr>\n",
       "      <th>117</th>\n",
       "      <td>126</td>\n",
       "      <td>Void Spirit</td>\n",
       "      <td>0.500000</td>\n",
       "      <td>0.162162</td>\n",
       "      <td>0.500000</td>\n",
       "      <td>0.750000</td>\n",
       "      <td>0.222222</td>\n",
       "      <td>0.388889</td>\n",
       "      <td>0.500000</td>\n",
       "      <td>0.558824</td>\n",
       "      <td>0.666667</td>\n",
       "      <td>0.354839</td>\n",
       "      <td>0.500000</td>\n",
       "      <td>0.500000</td>\n",
       "    </tr>\n",
       "    <tr>\n",
       "      <th>118</th>\n",
       "      <td>128</td>\n",
       "      <td>Snapfire</td>\n",
       "      <td>0.333333</td>\n",
       "      <td>0.081081</td>\n",
       "      <td>0.333333</td>\n",
       "      <td>0.166667</td>\n",
       "      <td>0.444444</td>\n",
       "      <td>0.240741</td>\n",
       "      <td>0.333333</td>\n",
       "      <td>0.470588</td>\n",
       "      <td>0.500000</td>\n",
       "      <td>0.645161</td>\n",
       "      <td>0.431818</td>\n",
       "      <td>0.285714</td>\n",
       "    </tr>\n",
       "    <tr>\n",
       "      <th>119</th>\n",
       "      <td>129</td>\n",
       "      <td>Mars</td>\n",
       "      <td>0.583333</td>\n",
       "      <td>0.189189</td>\n",
       "      <td>0.583333</td>\n",
       "      <td>0.750000</td>\n",
       "      <td>0.222222</td>\n",
       "      <td>0.351852</td>\n",
       "      <td>0.583333</td>\n",
       "      <td>0.588235</td>\n",
       "      <td>0.500000</td>\n",
       "      <td>0.612903</td>\n",
       "      <td>0.386364</td>\n",
       "      <td>0.285714</td>\n",
       "    </tr>\n",
       "    <tr>\n",
       "      <th>120</th>\n",
       "      <td>135</td>\n",
       "      <td>Dawnbreaker</td>\n",
       "      <td>0.833333</td>\n",
       "      <td>0.270270</td>\n",
       "      <td>0.833333</td>\n",
       "      <td>0.416667</td>\n",
       "      <td>0.444444</td>\n",
       "      <td>0.444444</td>\n",
       "      <td>0.833333</td>\n",
       "      <td>0.411765</td>\n",
       "      <td>0.444444</td>\n",
       "      <td>0.677419</td>\n",
       "      <td>0.386364</td>\n",
       "      <td>0.285714</td>\n",
       "    </tr>\n",
       "  </tbody>\n",
       "</table>\n",
       "<p>121 rows × 14 columns</p>\n",
       "</div>"
      ],
      "text/plain": [
       "     hero_id  localized_name    health  health_regen      mana  mana_regen  \\\n",
       "0          1       Anti-Mage  0.583333      0.189189  0.583333    0.333333   \n",
       "1          2             Axe  0.750000      0.891892  0.750000    0.333333   \n",
       "2          3            Bane  0.500000      0.162162  0.500000    0.250000   \n",
       "3          4     Bloodseeker  0.666667      0.216216  0.666667    0.333333   \n",
       "4          5  Crystal Maiden  0.166667      0.027027  0.166667    0.916667   \n",
       "..       ...             ...       ...           ...       ...         ...   \n",
       "116      123        Hoodwink  0.083333      0.027027  0.083333    0.083333   \n",
       "117      126     Void Spirit  0.500000      0.162162  0.500000    0.750000   \n",
       "118      128        Snapfire  0.333333      0.081081  0.333333    0.166667   \n",
       "119      129            Mars  0.583333      0.189189  0.583333    0.750000   \n",
       "120      135     Dawnbreaker  0.833333      0.270270  0.833333    0.416667   \n",
       "\n",
       "        armor  attack_min  base_str  base_agi  base_int  str_gain  agi_gain  \\\n",
       "0    0.444444    0.370370  0.583333  0.705882  0.000000  0.032258  0.636364   \n",
       "1    0.222222    0.351852  0.750000  0.588235  0.333333  0.612903  0.500000   \n",
       "2    0.555556    0.444444  0.500000  0.647059  0.555556  0.354839  0.590909   \n",
       "3    0.666667    0.444444  0.666667  0.647059  0.277778  0.387097  0.772727   \n",
       "4    0.222222    0.203704  0.166667  0.470588  0.222222  0.225806  0.363636   \n",
       "..        ...         ...       ...       ...       ...       ...       ...   \n",
       "116  0.444444    0.240741  0.083333  0.705882  0.500000  0.161290  0.818182   \n",
       "117  0.222222    0.388889  0.500000  0.558824  0.666667  0.354839  0.500000   \n",
       "118  0.444444    0.240741  0.333333  0.470588  0.500000  0.645161  0.431818   \n",
       "119  0.222222    0.351852  0.583333  0.588235  0.500000  0.612903  0.386364   \n",
       "120  0.444444    0.444444  0.833333  0.411765  0.444444  0.677419  0.386364   \n",
       "\n",
       "     int_gain  \n",
       "0    0.190476  \n",
       "1    0.142857  \n",
       "2    0.380952  \n",
       "3    0.238095  \n",
       "4    0.547619  \n",
       "..        ...  \n",
       "116  0.452381  \n",
       "117  0.500000  \n",
       "118  0.285714  \n",
       "119  0.285714  \n",
       "120  0.285714  \n",
       "\n",
       "[121 rows x 14 columns]"
      ]
     },
     "metadata": {},
     "execution_count": 25
    }
   ],
   "metadata": {}
  },
  {
   "cell_type": "code",
   "execution_count": 26,
   "source": [
    "heroes_df.loc[80]"
   ],
   "outputs": [
    {
     "output_type": "execute_result",
     "data": {
      "text/plain": [
       "hero_id                 82\n",
       "localized_name       Meepo\n",
       "health            0.666667\n",
       "health_regen      0.216216\n",
       "mana              0.666667\n",
       "mana_regen        0.333333\n",
       "armor             0.777778\n",
       "attack_min        0.240741\n",
       "base_str          0.666667\n",
       "base_agi               0.5\n",
       "base_int          0.444444\n",
       "str_gain          0.032258\n",
       "agi_gain          0.363636\n",
       "int_gain          0.142857\n",
       "Name: 80, dtype: object"
      ]
     },
     "metadata": {},
     "execution_count": 26
    }
   ],
   "metadata": {}
  },
  {
   "cell_type": "code",
   "execution_count": 27,
   "source": [
    "hero_id = 76\r\n",
    "heroes_df[heroes_df['hero_id']==hero_id]['localized_name'].values"
   ],
   "outputs": [
    {
     "output_type": "execute_result",
     "data": {
      "text/plain": [
       "array(['Outworld Devourer'], dtype=object)"
      ]
     },
     "metadata": {},
     "execution_count": 27
    }
   ],
   "metadata": {}
  },
  {
   "cell_type": "code",
   "execution_count": 28,
   "source": [
    "heroes_df[heroes_df['hero_id']==hero_id]"
   ],
   "outputs": [
    {
     "output_type": "execute_result",
     "data": {
      "text/html": [
       "<div>\n",
       "<style scoped>\n",
       "    .dataframe tbody tr th:only-of-type {\n",
       "        vertical-align: middle;\n",
       "    }\n",
       "\n",
       "    .dataframe tbody tr th {\n",
       "        vertical-align: top;\n",
       "    }\n",
       "\n",
       "    .dataframe thead th {\n",
       "        text-align: right;\n",
       "    }\n",
       "</style>\n",
       "<table border=\"1\" class=\"dataframe\">\n",
       "  <thead>\n",
       "    <tr style=\"text-align: right;\">\n",
       "      <th></th>\n",
       "      <th>hero_id</th>\n",
       "      <th>localized_name</th>\n",
       "      <th>health</th>\n",
       "      <th>health_regen</th>\n",
       "      <th>mana</th>\n",
       "      <th>mana_regen</th>\n",
       "      <th>armor</th>\n",
       "      <th>attack_min</th>\n",
       "      <th>base_str</th>\n",
       "      <th>base_agi</th>\n",
       "      <th>base_int</th>\n",
       "      <th>str_gain</th>\n",
       "      <th>agi_gain</th>\n",
       "      <th>int_gain</th>\n",
       "    </tr>\n",
       "  </thead>\n",
       "  <tbody>\n",
       "    <tr>\n",
       "      <th>74</th>\n",
       "      <td>76</td>\n",
       "      <td>Outworld Devourer</td>\n",
       "      <td>0.416667</td>\n",
       "      <td>0.324324</td>\n",
       "      <td>0.416667</td>\n",
       "      <td>0.25</td>\n",
       "      <td>0.666667</td>\n",
       "      <td>0.296296</td>\n",
       "      <td>0.416667</td>\n",
       "      <td>0.647059</td>\n",
       "      <td>1.0</td>\n",
       "      <td>0.451613</td>\n",
       "      <td>0.363636</td>\n",
       "      <td>0.761905</td>\n",
       "    </tr>\n",
       "  </tbody>\n",
       "</table>\n",
       "</div>"
      ],
      "text/plain": [
       "    hero_id     localized_name    health  health_regen      mana  mana_regen  \\\n",
       "74       76  Outworld Devourer  0.416667      0.324324  0.416667        0.25   \n",
       "\n",
       "       armor  attack_min  base_str  base_agi  base_int  str_gain  agi_gain  \\\n",
       "74  0.666667    0.296296  0.416667  0.647059       1.0  0.451613  0.363636   \n",
       "\n",
       "    int_gain  \n",
       "74  0.761905  "
      ]
     },
     "metadata": {},
     "execution_count": 28
    }
   ],
   "metadata": {}
  },
  {
   "cell_type": "code",
   "execution_count": 29,
   "source": [
    "heroes_df.loc[heroes_df['hero_id']==hero_id][target_cols]"
   ],
   "outputs": [
    {
     "output_type": "execute_result",
     "data": {
      "text/html": [
       "<div>\n",
       "<style scoped>\n",
       "    .dataframe tbody tr th:only-of-type {\n",
       "        vertical-align: middle;\n",
       "    }\n",
       "\n",
       "    .dataframe tbody tr th {\n",
       "        vertical-align: top;\n",
       "    }\n",
       "\n",
       "    .dataframe thead th {\n",
       "        text-align: right;\n",
       "    }\n",
       "</style>\n",
       "<table border=\"1\" class=\"dataframe\">\n",
       "  <thead>\n",
       "    <tr style=\"text-align: right;\">\n",
       "      <th></th>\n",
       "      <th>health</th>\n",
       "      <th>health_regen</th>\n",
       "      <th>mana</th>\n",
       "      <th>mana_regen</th>\n",
       "      <th>armor</th>\n",
       "      <th>attack_min</th>\n",
       "      <th>base_str</th>\n",
       "      <th>base_agi</th>\n",
       "      <th>base_int</th>\n",
       "      <th>str_gain</th>\n",
       "      <th>agi_gain</th>\n",
       "      <th>int_gain</th>\n",
       "    </tr>\n",
       "  </thead>\n",
       "  <tbody>\n",
       "    <tr>\n",
       "      <th>74</th>\n",
       "      <td>0.416667</td>\n",
       "      <td>0.324324</td>\n",
       "      <td>0.416667</td>\n",
       "      <td>0.25</td>\n",
       "      <td>0.666667</td>\n",
       "      <td>0.296296</td>\n",
       "      <td>0.416667</td>\n",
       "      <td>0.647059</td>\n",
       "      <td>1.0</td>\n",
       "      <td>0.451613</td>\n",
       "      <td>0.363636</td>\n",
       "      <td>0.761905</td>\n",
       "    </tr>\n",
       "  </tbody>\n",
       "</table>\n",
       "</div>"
      ],
      "text/plain": [
       "      health  health_regen      mana  mana_regen     armor  attack_min  \\\n",
       "74  0.416667      0.324324  0.416667        0.25  0.666667    0.296296   \n",
       "\n",
       "    base_str  base_agi  base_int  str_gain  agi_gain  int_gain  \n",
       "74  0.416667  0.647059       1.0  0.451613  0.363636  0.761905  "
      ]
     },
     "metadata": {},
     "execution_count": 29
    }
   ],
   "metadata": {}
  },
  {
   "cell_type": "code",
   "execution_count": 30,
   "source": [
    "hero_list = heroes_data['localized_name'].tolist()\r\n",
    "hero_list"
   ],
   "outputs": [
    {
     "output_type": "execute_result",
     "data": {
      "text/plain": [
       "['Anti-Mage',\n",
       " 'Axe',\n",
       " 'Bane',\n",
       " 'Bloodseeker',\n",
       " 'Crystal Maiden',\n",
       " 'Drow Ranger',\n",
       " 'Earthshaker',\n",
       " 'Juggernaut',\n",
       " 'Mirana',\n",
       " 'Morphling',\n",
       " 'Shadow Fiend',\n",
       " 'Phantom Lancer',\n",
       " 'Puck',\n",
       " 'Pudge',\n",
       " 'Razor',\n",
       " 'Sand King',\n",
       " 'Storm Spirit',\n",
       " 'Sven',\n",
       " 'Tiny',\n",
       " 'Vengeful Spirit',\n",
       " 'Windranger',\n",
       " 'Zeus',\n",
       " 'Kunkka',\n",
       " 'Lina',\n",
       " 'Lion',\n",
       " 'Shadow Shaman',\n",
       " 'Slardar',\n",
       " 'Tidehunter',\n",
       " 'Witch Doctor',\n",
       " 'Lich',\n",
       " 'Riki',\n",
       " 'Enigma',\n",
       " 'Tinker',\n",
       " 'Sniper',\n",
       " 'Necrophos',\n",
       " 'Warlock',\n",
       " 'Beastmaster',\n",
       " 'Queen of Pain',\n",
       " 'Venomancer',\n",
       " 'Faceless Void',\n",
       " 'Wraith King',\n",
       " 'Death Prophet',\n",
       " 'Phantom Assassin',\n",
       " 'Pugna',\n",
       " 'Templar Assassin',\n",
       " 'Viper',\n",
       " 'Luna',\n",
       " 'Dragon Knight',\n",
       " 'Dazzle',\n",
       " 'Clockwerk',\n",
       " 'Leshrac',\n",
       " \"Nature's Prophet\",\n",
       " 'Lifestealer',\n",
       " 'Dark Seer',\n",
       " 'Clinkz',\n",
       " 'Omniknight',\n",
       " 'Enchantress',\n",
       " 'Huskar',\n",
       " 'Night Stalker',\n",
       " 'Broodmother',\n",
       " 'Bounty Hunter',\n",
       " 'Weaver',\n",
       " 'Jakiro',\n",
       " 'Batrider',\n",
       " 'Chen',\n",
       " 'Spectre',\n",
       " 'Ancient Apparition',\n",
       " 'Doom',\n",
       " 'Ursa',\n",
       " 'Spirit Breaker',\n",
       " 'Gyrocopter',\n",
       " 'Alchemist',\n",
       " 'Invoker',\n",
       " 'Silencer',\n",
       " 'Outworld Devourer',\n",
       " 'Lycan',\n",
       " 'Brewmaster',\n",
       " 'Shadow Demon',\n",
       " 'Lone Druid',\n",
       " 'Chaos Knight',\n",
       " 'Meepo',\n",
       " 'Treant Protector',\n",
       " 'Ogre Magi',\n",
       " 'Undying',\n",
       " 'Rubick',\n",
       " 'Disruptor',\n",
       " 'Nyx Assassin',\n",
       " 'Naga Siren',\n",
       " 'Keeper of the Light',\n",
       " 'Io',\n",
       " 'Visage',\n",
       " 'Slark',\n",
       " 'Medusa',\n",
       " 'Troll Warlord',\n",
       " 'Centaur Warrunner',\n",
       " 'Magnus',\n",
       " 'Timbersaw',\n",
       " 'Bristleback',\n",
       " 'Tusk',\n",
       " 'Skywrath Mage',\n",
       " 'Abaddon',\n",
       " 'Elder Titan',\n",
       " 'Legion Commander',\n",
       " 'Techies',\n",
       " 'Ember Spirit',\n",
       " 'Earth Spirit',\n",
       " 'Underlord',\n",
       " 'Terrorblade',\n",
       " 'Phoenix',\n",
       " 'Oracle',\n",
       " 'Winter Wyvern',\n",
       " 'Arc Warden',\n",
       " 'Monkey King',\n",
       " 'Dark Willow',\n",
       " 'Pangolier',\n",
       " 'Grimstroke',\n",
       " 'Hoodwink',\n",
       " 'Void Spirit',\n",
       " 'Snapfire',\n",
       " 'Mars',\n",
       " 'Dawnbreaker']"
      ]
     },
     "metadata": {},
     "execution_count": 30
    }
   ],
   "metadata": {}
  },
  {
   "cell_type": "code",
   "execution_count": 31,
   "source": [
    "heroes_df = heroes_df.set_index('localized_name')\r\n",
    "heroes_df.head(5)"
   ],
   "outputs": [
    {
     "output_type": "execute_result",
     "data": {
      "text/html": [
       "<div>\n",
       "<style scoped>\n",
       "    .dataframe tbody tr th:only-of-type {\n",
       "        vertical-align: middle;\n",
       "    }\n",
       "\n",
       "    .dataframe tbody tr th {\n",
       "        vertical-align: top;\n",
       "    }\n",
       "\n",
       "    .dataframe thead th {\n",
       "        text-align: right;\n",
       "    }\n",
       "</style>\n",
       "<table border=\"1\" class=\"dataframe\">\n",
       "  <thead>\n",
       "    <tr style=\"text-align: right;\">\n",
       "      <th></th>\n",
       "      <th>hero_id</th>\n",
       "      <th>health</th>\n",
       "      <th>health_regen</th>\n",
       "      <th>mana</th>\n",
       "      <th>mana_regen</th>\n",
       "      <th>armor</th>\n",
       "      <th>attack_min</th>\n",
       "      <th>base_str</th>\n",
       "      <th>base_agi</th>\n",
       "      <th>base_int</th>\n",
       "      <th>str_gain</th>\n",
       "      <th>agi_gain</th>\n",
       "      <th>int_gain</th>\n",
       "    </tr>\n",
       "    <tr>\n",
       "      <th>localized_name</th>\n",
       "      <th></th>\n",
       "      <th></th>\n",
       "      <th></th>\n",
       "      <th></th>\n",
       "      <th></th>\n",
       "      <th></th>\n",
       "      <th></th>\n",
       "      <th></th>\n",
       "      <th></th>\n",
       "      <th></th>\n",
       "      <th></th>\n",
       "      <th></th>\n",
       "      <th></th>\n",
       "    </tr>\n",
       "  </thead>\n",
       "  <tbody>\n",
       "    <tr>\n",
       "      <th>Anti-Mage</th>\n",
       "      <td>1</td>\n",
       "      <td>0.583333</td>\n",
       "      <td>0.189189</td>\n",
       "      <td>0.583333</td>\n",
       "      <td>0.333333</td>\n",
       "      <td>0.444444</td>\n",
       "      <td>0.370370</td>\n",
       "      <td>0.583333</td>\n",
       "      <td>0.705882</td>\n",
       "      <td>0.000000</td>\n",
       "      <td>0.032258</td>\n",
       "      <td>0.636364</td>\n",
       "      <td>0.190476</td>\n",
       "    </tr>\n",
       "    <tr>\n",
       "      <th>Axe</th>\n",
       "      <td>2</td>\n",
       "      <td>0.750000</td>\n",
       "      <td>0.891892</td>\n",
       "      <td>0.750000</td>\n",
       "      <td>0.333333</td>\n",
       "      <td>0.222222</td>\n",
       "      <td>0.351852</td>\n",
       "      <td>0.750000</td>\n",
       "      <td>0.588235</td>\n",
       "      <td>0.333333</td>\n",
       "      <td>0.612903</td>\n",
       "      <td>0.500000</td>\n",
       "      <td>0.142857</td>\n",
       "    </tr>\n",
       "    <tr>\n",
       "      <th>Bane</th>\n",
       "      <td>3</td>\n",
       "      <td>0.500000</td>\n",
       "      <td>0.162162</td>\n",
       "      <td>0.500000</td>\n",
       "      <td>0.250000</td>\n",
       "      <td>0.555556</td>\n",
       "      <td>0.444444</td>\n",
       "      <td>0.500000</td>\n",
       "      <td>0.647059</td>\n",
       "      <td>0.555556</td>\n",
       "      <td>0.354839</td>\n",
       "      <td>0.590909</td>\n",
       "      <td>0.380952</td>\n",
       "    </tr>\n",
       "    <tr>\n",
       "      <th>Bloodseeker</th>\n",
       "      <td>4</td>\n",
       "      <td>0.666667</td>\n",
       "      <td>0.216216</td>\n",
       "      <td>0.666667</td>\n",
       "      <td>0.333333</td>\n",
       "      <td>0.666667</td>\n",
       "      <td>0.444444</td>\n",
       "      <td>0.666667</td>\n",
       "      <td>0.647059</td>\n",
       "      <td>0.277778</td>\n",
       "      <td>0.387097</td>\n",
       "      <td>0.772727</td>\n",
       "      <td>0.238095</td>\n",
       "    </tr>\n",
       "    <tr>\n",
       "      <th>Crystal Maiden</th>\n",
       "      <td>5</td>\n",
       "      <td>0.166667</td>\n",
       "      <td>0.027027</td>\n",
       "      <td>0.166667</td>\n",
       "      <td>0.916667</td>\n",
       "      <td>0.222222</td>\n",
       "      <td>0.203704</td>\n",
       "      <td>0.166667</td>\n",
       "      <td>0.470588</td>\n",
       "      <td>0.222222</td>\n",
       "      <td>0.225806</td>\n",
       "      <td>0.363636</td>\n",
       "      <td>0.547619</td>\n",
       "    </tr>\n",
       "  </tbody>\n",
       "</table>\n",
       "</div>"
      ],
      "text/plain": [
       "                hero_id    health  health_regen      mana  mana_regen  \\\n",
       "localized_name                                                          \n",
       "Anti-Mage             1  0.583333      0.189189  0.583333    0.333333   \n",
       "Axe                   2  0.750000      0.891892  0.750000    0.333333   \n",
       "Bane                  3  0.500000      0.162162  0.500000    0.250000   \n",
       "Bloodseeker           4  0.666667      0.216216  0.666667    0.333333   \n",
       "Crystal Maiden        5  0.166667      0.027027  0.166667    0.916667   \n",
       "\n",
       "                   armor  attack_min  base_str  base_agi  base_int  str_gain  \\\n",
       "localized_name                                                                 \n",
       "Anti-Mage       0.444444    0.370370  0.583333  0.705882  0.000000  0.032258   \n",
       "Axe             0.222222    0.351852  0.750000  0.588235  0.333333  0.612903   \n",
       "Bane            0.555556    0.444444  0.500000  0.647059  0.555556  0.354839   \n",
       "Bloodseeker     0.666667    0.444444  0.666667  0.647059  0.277778  0.387097   \n",
       "Crystal Maiden  0.222222    0.203704  0.166667  0.470588  0.222222  0.225806   \n",
       "\n",
       "                agi_gain  int_gain  \n",
       "localized_name                      \n",
       "Anti-Mage       0.636364  0.190476  \n",
       "Axe             0.500000  0.142857  \n",
       "Bane            0.590909  0.380952  \n",
       "Bloodseeker     0.772727  0.238095  \n",
       "Crystal Maiden  0.363636  0.547619  "
      ]
     },
     "metadata": {},
     "execution_count": 31
    }
   ],
   "metadata": {}
  },
  {
   "cell_type": "code",
   "execution_count": 32,
   "source": [
    "heroes_df = heroes_df.iloc[:,1:]\r\n",
    "heroes_df.head(5)"
   ],
   "outputs": [
    {
     "output_type": "execute_result",
     "data": {
      "text/html": [
       "<div>\n",
       "<style scoped>\n",
       "    .dataframe tbody tr th:only-of-type {\n",
       "        vertical-align: middle;\n",
       "    }\n",
       "\n",
       "    .dataframe tbody tr th {\n",
       "        vertical-align: top;\n",
       "    }\n",
       "\n",
       "    .dataframe thead th {\n",
       "        text-align: right;\n",
       "    }\n",
       "</style>\n",
       "<table border=\"1\" class=\"dataframe\">\n",
       "  <thead>\n",
       "    <tr style=\"text-align: right;\">\n",
       "      <th></th>\n",
       "      <th>health</th>\n",
       "      <th>health_regen</th>\n",
       "      <th>mana</th>\n",
       "      <th>mana_regen</th>\n",
       "      <th>armor</th>\n",
       "      <th>attack_min</th>\n",
       "      <th>base_str</th>\n",
       "      <th>base_agi</th>\n",
       "      <th>base_int</th>\n",
       "      <th>str_gain</th>\n",
       "      <th>agi_gain</th>\n",
       "      <th>int_gain</th>\n",
       "    </tr>\n",
       "    <tr>\n",
       "      <th>localized_name</th>\n",
       "      <th></th>\n",
       "      <th></th>\n",
       "      <th></th>\n",
       "      <th></th>\n",
       "      <th></th>\n",
       "      <th></th>\n",
       "      <th></th>\n",
       "      <th></th>\n",
       "      <th></th>\n",
       "      <th></th>\n",
       "      <th></th>\n",
       "      <th></th>\n",
       "    </tr>\n",
       "  </thead>\n",
       "  <tbody>\n",
       "    <tr>\n",
       "      <th>Anti-Mage</th>\n",
       "      <td>0.583333</td>\n",
       "      <td>0.189189</td>\n",
       "      <td>0.583333</td>\n",
       "      <td>0.333333</td>\n",
       "      <td>0.444444</td>\n",
       "      <td>0.370370</td>\n",
       "      <td>0.583333</td>\n",
       "      <td>0.705882</td>\n",
       "      <td>0.000000</td>\n",
       "      <td>0.032258</td>\n",
       "      <td>0.636364</td>\n",
       "      <td>0.190476</td>\n",
       "    </tr>\n",
       "    <tr>\n",
       "      <th>Axe</th>\n",
       "      <td>0.750000</td>\n",
       "      <td>0.891892</td>\n",
       "      <td>0.750000</td>\n",
       "      <td>0.333333</td>\n",
       "      <td>0.222222</td>\n",
       "      <td>0.351852</td>\n",
       "      <td>0.750000</td>\n",
       "      <td>0.588235</td>\n",
       "      <td>0.333333</td>\n",
       "      <td>0.612903</td>\n",
       "      <td>0.500000</td>\n",
       "      <td>0.142857</td>\n",
       "    </tr>\n",
       "    <tr>\n",
       "      <th>Bane</th>\n",
       "      <td>0.500000</td>\n",
       "      <td>0.162162</td>\n",
       "      <td>0.500000</td>\n",
       "      <td>0.250000</td>\n",
       "      <td>0.555556</td>\n",
       "      <td>0.444444</td>\n",
       "      <td>0.500000</td>\n",
       "      <td>0.647059</td>\n",
       "      <td>0.555556</td>\n",
       "      <td>0.354839</td>\n",
       "      <td>0.590909</td>\n",
       "      <td>0.380952</td>\n",
       "    </tr>\n",
       "    <tr>\n",
       "      <th>Bloodseeker</th>\n",
       "      <td>0.666667</td>\n",
       "      <td>0.216216</td>\n",
       "      <td>0.666667</td>\n",
       "      <td>0.333333</td>\n",
       "      <td>0.666667</td>\n",
       "      <td>0.444444</td>\n",
       "      <td>0.666667</td>\n",
       "      <td>0.647059</td>\n",
       "      <td>0.277778</td>\n",
       "      <td>0.387097</td>\n",
       "      <td>0.772727</td>\n",
       "      <td>0.238095</td>\n",
       "    </tr>\n",
       "    <tr>\n",
       "      <th>Crystal Maiden</th>\n",
       "      <td>0.166667</td>\n",
       "      <td>0.027027</td>\n",
       "      <td>0.166667</td>\n",
       "      <td>0.916667</td>\n",
       "      <td>0.222222</td>\n",
       "      <td>0.203704</td>\n",
       "      <td>0.166667</td>\n",
       "      <td>0.470588</td>\n",
       "      <td>0.222222</td>\n",
       "      <td>0.225806</td>\n",
       "      <td>0.363636</td>\n",
       "      <td>0.547619</td>\n",
       "    </tr>\n",
       "  </tbody>\n",
       "</table>\n",
       "</div>"
      ],
      "text/plain": [
       "                  health  health_regen      mana  mana_regen     armor  \\\n",
       "localized_name                                                           \n",
       "Anti-Mage       0.583333      0.189189  0.583333    0.333333  0.444444   \n",
       "Axe             0.750000      0.891892  0.750000    0.333333  0.222222   \n",
       "Bane            0.500000      0.162162  0.500000    0.250000  0.555556   \n",
       "Bloodseeker     0.666667      0.216216  0.666667    0.333333  0.666667   \n",
       "Crystal Maiden  0.166667      0.027027  0.166667    0.916667  0.222222   \n",
       "\n",
       "                attack_min  base_str  base_agi  base_int  str_gain  agi_gain  \\\n",
       "localized_name                                                                 \n",
       "Anti-Mage         0.370370  0.583333  0.705882  0.000000  0.032258  0.636364   \n",
       "Axe               0.351852  0.750000  0.588235  0.333333  0.612903  0.500000   \n",
       "Bane              0.444444  0.500000  0.647059  0.555556  0.354839  0.590909   \n",
       "Bloodseeker       0.444444  0.666667  0.647059  0.277778  0.387097  0.772727   \n",
       "Crystal Maiden    0.203704  0.166667  0.470588  0.222222  0.225806  0.363636   \n",
       "\n",
       "                int_gain  \n",
       "localized_name            \n",
       "Anti-Mage       0.190476  \n",
       "Axe             0.142857  \n",
       "Bane            0.380952  \n",
       "Bloodseeker     0.238095  \n",
       "Crystal Maiden  0.547619  "
      ]
     },
     "metadata": {},
     "execution_count": 32
    }
   ],
   "metadata": {}
  },
  {
   "cell_type": "code",
   "execution_count": 33,
   "source": [
    "selected_hero = hero_list[0]"
   ],
   "outputs": [],
   "metadata": {}
  },
  {
   "cell_type": "code",
   "execution_count": 34,
   "source": [
    "heroes_df.loc[selected_hero]"
   ],
   "outputs": [
    {
     "output_type": "execute_result",
     "data": {
      "text/plain": [
       "health          0.583333\n",
       "health_regen    0.189189\n",
       "mana            0.583333\n",
       "mana_regen      0.333333\n",
       "armor           0.444444\n",
       "attack_min      0.370370\n",
       "base_str        0.583333\n",
       "base_agi        0.705882\n",
       "base_int        0.000000\n",
       "str_gain        0.032258\n",
       "agi_gain        0.636364\n",
       "int_gain        0.190476\n",
       "Name: Anti-Mage, dtype: float64"
      ]
     },
     "metadata": {},
     "execution_count": 34
    }
   ],
   "metadata": {}
  },
  {
   "cell_type": "markdown",
   "source": [
    "# Graphs"
   ],
   "metadata": {}
  },
  {
   "cell_type": "code",
   "execution_count": 35,
   "source": [
    "print('Current working directory: ' + os.getcwd())\r\n",
    "os.chdir('../dashboard')\r\n",
    "print('New working directory: ' + os.getcwd())"
   ],
   "outputs": [
    {
     "output_type": "stream",
     "name": "stdout",
     "text": [
      "Current working directory: c:\\Users\\Boonchong\\Desktop\\defense_of_the_ancient\\downloads\n",
      "New working directory: c:\\Users\\Boonchong\\Desktop\\defense_of_the_ancient\\dashboard\n"
     ]
    }
   ],
   "metadata": {}
  },
  {
   "cell_type": "code",
   "execution_count": 36,
   "source": [
    "from common_functions import *\r\n",
    "from charts import*"
   ],
   "outputs": [],
   "metadata": {}
  },
  {
   "cell_type": "code",
   "execution_count": 37,
   "source": [
    "df = pd.read_csv('../downloads/hero_data/hero_stats_23August2021.csv')\r\n",
    "hero_list, df = preprocess_df(df)"
   ],
   "outputs": [],
   "metadata": {}
  },
  {
   "cell_type": "code",
   "execution_count": 38,
   "source": [
    "selected_hero=hero_list[2]"
   ],
   "outputs": [],
   "metadata": {}
  },
  {
   "cell_type": "code",
   "execution_count": 44,
   "source": [
    "def radar_hero_trace(fig,df,selected_hero):\r\n",
    "    fig.add_trace(\r\n",
    "    go.Scatterpolar(\r\n",
    "        r=list(df.loc[selected_hero]),\r\n",
    "        theta=df.columns,\r\n",
    "        mode='markers+lines',\r\n",
    "        text=list(selected_hero),\r\n",
    "        textposition=\"top center\",\r\n",
    "        textfont_size=15,\r\n",
    "        fill=\"toself\",\r\n",
    "        fillcolor=\"#008FD3\",\r\n",
    "        line=dict(color=\"#F0AB00\"),\r\n",
    "        marker=dict(color=\"#AB7A00\",size=5),\r\n",
    "        opacity=0.5,\r\n",
    "        name=selected_hero\r\n",
    "        )\r\n",
    "    )"
   ],
   "outputs": [],
   "metadata": {}
  },
  {
   "cell_type": "code",
   "execution_count": 42,
   "source": [
    "def get_radar_heroes(selected_hero,df):\r\n",
    "    fig = go.Figure()\r\n",
    "    radar_hero_trace(fig,df,selected_hero)\r\n",
    "    fig.update_traces(hovertemplate='%{theta}' + '<br>Value:%{r:.2f}</br>', selector=dict(type='scatterpolar'))\r\n",
    "    fig.update_layout(title=dict(text=selected_hero,x=0.5,y=0.95))\r\n",
    "    return fig"
   ],
   "outputs": [],
   "metadata": {}
  },
  {
   "cell_type": "code",
   "execution_count": 39,
   "source": [
    "get_radar_heroes(selected_hero,heroes_df)"
   ],
   "outputs": [
    {
     "output_type": "display_data",
     "data": {
      "application/vnd.plotly.v1+json": {
       "config": {
        "plotlyServerURL": "https://plot.ly"
       },
       "data": [
        {
         "fill": "toself",
         "fillcolor": "#008FD3",
         "hovertemplate": "%{theta}<br>Value:%{r:.2f}</br>",
         "line": {
          "color": "#F0AB00"
         },
         "marker": {
          "color": "#AB7A00",
          "size": 5
         },
         "mode": "markers+lines",
         "name": "Bane",
         "opacity": 0.5,
         "r": [
          0.5,
          0.1621621621621622,
          0.5,
          0.25000000000000006,
          0.5555555555555556,
          0.4444444444444444,
          0.5,
          0.6470588235294118,
          0.5555555555555556,
          0.35483870967741943,
          0.5909090909090908,
          0.38095238095238093
         ],
         "text": [
          "B",
          "a",
          "n",
          "e"
         ],
         "textfont": {
          "size": 15
         },
         "textposition": "top center",
         "theta": [
          "health",
          "health_regen",
          "mana",
          "mana_regen",
          "armor",
          "attack_min",
          "base_str",
          "base_agi",
          "base_int",
          "str_gain",
          "agi_gain",
          "int_gain"
         ],
         "type": "scatterpolar"
        }
       ],
       "layout": {
        "template": {
         "data": {
          "bar": [
           {
            "error_x": {
             "color": "#2a3f5f"
            },
            "error_y": {
             "color": "#2a3f5f"
            },
            "marker": {
             "line": {
              "color": "#E5ECF6",
              "width": 0.5
             },
             "pattern": {
              "fillmode": "overlay",
              "size": 10,
              "solidity": 0.2
             }
            },
            "type": "bar"
           }
          ],
          "barpolar": [
           {
            "marker": {
             "line": {
              "color": "#E5ECF6",
              "width": 0.5
             },
             "pattern": {
              "fillmode": "overlay",
              "size": 10,
              "solidity": 0.2
             }
            },
            "type": "barpolar"
           }
          ],
          "carpet": [
           {
            "aaxis": {
             "endlinecolor": "#2a3f5f",
             "gridcolor": "white",
             "linecolor": "white",
             "minorgridcolor": "white",
             "startlinecolor": "#2a3f5f"
            },
            "baxis": {
             "endlinecolor": "#2a3f5f",
             "gridcolor": "white",
             "linecolor": "white",
             "minorgridcolor": "white",
             "startlinecolor": "#2a3f5f"
            },
            "type": "carpet"
           }
          ],
          "choropleth": [
           {
            "colorbar": {
             "outlinewidth": 0,
             "ticks": ""
            },
            "type": "choropleth"
           }
          ],
          "contour": [
           {
            "colorbar": {
             "outlinewidth": 0,
             "ticks": ""
            },
            "colorscale": [
             [
              0,
              "#0d0887"
             ],
             [
              0.1111111111111111,
              "#46039f"
             ],
             [
              0.2222222222222222,
              "#7201a8"
             ],
             [
              0.3333333333333333,
              "#9c179e"
             ],
             [
              0.4444444444444444,
              "#bd3786"
             ],
             [
              0.5555555555555556,
              "#d8576b"
             ],
             [
              0.6666666666666666,
              "#ed7953"
             ],
             [
              0.7777777777777778,
              "#fb9f3a"
             ],
             [
              0.8888888888888888,
              "#fdca26"
             ],
             [
              1,
              "#f0f921"
             ]
            ],
            "type": "contour"
           }
          ],
          "contourcarpet": [
           {
            "colorbar": {
             "outlinewidth": 0,
             "ticks": ""
            },
            "type": "contourcarpet"
           }
          ],
          "heatmap": [
           {
            "colorbar": {
             "outlinewidth": 0,
             "ticks": ""
            },
            "colorscale": [
             [
              0,
              "#0d0887"
             ],
             [
              0.1111111111111111,
              "#46039f"
             ],
             [
              0.2222222222222222,
              "#7201a8"
             ],
             [
              0.3333333333333333,
              "#9c179e"
             ],
             [
              0.4444444444444444,
              "#bd3786"
             ],
             [
              0.5555555555555556,
              "#d8576b"
             ],
             [
              0.6666666666666666,
              "#ed7953"
             ],
             [
              0.7777777777777778,
              "#fb9f3a"
             ],
             [
              0.8888888888888888,
              "#fdca26"
             ],
             [
              1,
              "#f0f921"
             ]
            ],
            "type": "heatmap"
           }
          ],
          "heatmapgl": [
           {
            "colorbar": {
             "outlinewidth": 0,
             "ticks": ""
            },
            "colorscale": [
             [
              0,
              "#0d0887"
             ],
             [
              0.1111111111111111,
              "#46039f"
             ],
             [
              0.2222222222222222,
              "#7201a8"
             ],
             [
              0.3333333333333333,
              "#9c179e"
             ],
             [
              0.4444444444444444,
              "#bd3786"
             ],
             [
              0.5555555555555556,
              "#d8576b"
             ],
             [
              0.6666666666666666,
              "#ed7953"
             ],
             [
              0.7777777777777778,
              "#fb9f3a"
             ],
             [
              0.8888888888888888,
              "#fdca26"
             ],
             [
              1,
              "#f0f921"
             ]
            ],
            "type": "heatmapgl"
           }
          ],
          "histogram": [
           {
            "marker": {
             "pattern": {
              "fillmode": "overlay",
              "size": 10,
              "solidity": 0.2
             }
            },
            "type": "histogram"
           }
          ],
          "histogram2d": [
           {
            "colorbar": {
             "outlinewidth": 0,
             "ticks": ""
            },
            "colorscale": [
             [
              0,
              "#0d0887"
             ],
             [
              0.1111111111111111,
              "#46039f"
             ],
             [
              0.2222222222222222,
              "#7201a8"
             ],
             [
              0.3333333333333333,
              "#9c179e"
             ],
             [
              0.4444444444444444,
              "#bd3786"
             ],
             [
              0.5555555555555556,
              "#d8576b"
             ],
             [
              0.6666666666666666,
              "#ed7953"
             ],
             [
              0.7777777777777778,
              "#fb9f3a"
             ],
             [
              0.8888888888888888,
              "#fdca26"
             ],
             [
              1,
              "#f0f921"
             ]
            ],
            "type": "histogram2d"
           }
          ],
          "histogram2dcontour": [
           {
            "colorbar": {
             "outlinewidth": 0,
             "ticks": ""
            },
            "colorscale": [
             [
              0,
              "#0d0887"
             ],
             [
              0.1111111111111111,
              "#46039f"
             ],
             [
              0.2222222222222222,
              "#7201a8"
             ],
             [
              0.3333333333333333,
              "#9c179e"
             ],
             [
              0.4444444444444444,
              "#bd3786"
             ],
             [
              0.5555555555555556,
              "#d8576b"
             ],
             [
              0.6666666666666666,
              "#ed7953"
             ],
             [
              0.7777777777777778,
              "#fb9f3a"
             ],
             [
              0.8888888888888888,
              "#fdca26"
             ],
             [
              1,
              "#f0f921"
             ]
            ],
            "type": "histogram2dcontour"
           }
          ],
          "mesh3d": [
           {
            "colorbar": {
             "outlinewidth": 0,
             "ticks": ""
            },
            "type": "mesh3d"
           }
          ],
          "parcoords": [
           {
            "line": {
             "colorbar": {
              "outlinewidth": 0,
              "ticks": ""
             }
            },
            "type": "parcoords"
           }
          ],
          "pie": [
           {
            "automargin": true,
            "type": "pie"
           }
          ],
          "scatter": [
           {
            "marker": {
             "colorbar": {
              "outlinewidth": 0,
              "ticks": ""
             }
            },
            "type": "scatter"
           }
          ],
          "scatter3d": [
           {
            "line": {
             "colorbar": {
              "outlinewidth": 0,
              "ticks": ""
             }
            },
            "marker": {
             "colorbar": {
              "outlinewidth": 0,
              "ticks": ""
             }
            },
            "type": "scatter3d"
           }
          ],
          "scattercarpet": [
           {
            "marker": {
             "colorbar": {
              "outlinewidth": 0,
              "ticks": ""
             }
            },
            "type": "scattercarpet"
           }
          ],
          "scattergeo": [
           {
            "marker": {
             "colorbar": {
              "outlinewidth": 0,
              "ticks": ""
             }
            },
            "type": "scattergeo"
           }
          ],
          "scattergl": [
           {
            "marker": {
             "colorbar": {
              "outlinewidth": 0,
              "ticks": ""
             }
            },
            "type": "scattergl"
           }
          ],
          "scattermapbox": [
           {
            "marker": {
             "colorbar": {
              "outlinewidth": 0,
              "ticks": ""
             }
            },
            "type": "scattermapbox"
           }
          ],
          "scatterpolar": [
           {
            "marker": {
             "colorbar": {
              "outlinewidth": 0,
              "ticks": ""
             }
            },
            "type": "scatterpolar"
           }
          ],
          "scatterpolargl": [
           {
            "marker": {
             "colorbar": {
              "outlinewidth": 0,
              "ticks": ""
             }
            },
            "type": "scatterpolargl"
           }
          ],
          "scatterternary": [
           {
            "marker": {
             "colorbar": {
              "outlinewidth": 0,
              "ticks": ""
             }
            },
            "type": "scatterternary"
           }
          ],
          "surface": [
           {
            "colorbar": {
             "outlinewidth": 0,
             "ticks": ""
            },
            "colorscale": [
             [
              0,
              "#0d0887"
             ],
             [
              0.1111111111111111,
              "#46039f"
             ],
             [
              0.2222222222222222,
              "#7201a8"
             ],
             [
              0.3333333333333333,
              "#9c179e"
             ],
             [
              0.4444444444444444,
              "#bd3786"
             ],
             [
              0.5555555555555556,
              "#d8576b"
             ],
             [
              0.6666666666666666,
              "#ed7953"
             ],
             [
              0.7777777777777778,
              "#fb9f3a"
             ],
             [
              0.8888888888888888,
              "#fdca26"
             ],
             [
              1,
              "#f0f921"
             ]
            ],
            "type": "surface"
           }
          ],
          "table": [
           {
            "cells": {
             "fill": {
              "color": "#EBF0F8"
             },
             "line": {
              "color": "white"
             }
            },
            "header": {
             "fill": {
              "color": "#C8D4E3"
             },
             "line": {
              "color": "white"
             }
            },
            "type": "table"
           }
          ]
         },
         "layout": {
          "annotationdefaults": {
           "arrowcolor": "#2a3f5f",
           "arrowhead": 0,
           "arrowwidth": 1
          },
          "autotypenumbers": "strict",
          "coloraxis": {
           "colorbar": {
            "outlinewidth": 0,
            "ticks": ""
           }
          },
          "colorscale": {
           "diverging": [
            [
             0,
             "#8e0152"
            ],
            [
             0.1,
             "#c51b7d"
            ],
            [
             0.2,
             "#de77ae"
            ],
            [
             0.3,
             "#f1b6da"
            ],
            [
             0.4,
             "#fde0ef"
            ],
            [
             0.5,
             "#f7f7f7"
            ],
            [
             0.6,
             "#e6f5d0"
            ],
            [
             0.7,
             "#b8e186"
            ],
            [
             0.8,
             "#7fbc41"
            ],
            [
             0.9,
             "#4d9221"
            ],
            [
             1,
             "#276419"
            ]
           ],
           "sequential": [
            [
             0,
             "#0d0887"
            ],
            [
             0.1111111111111111,
             "#46039f"
            ],
            [
             0.2222222222222222,
             "#7201a8"
            ],
            [
             0.3333333333333333,
             "#9c179e"
            ],
            [
             0.4444444444444444,
             "#bd3786"
            ],
            [
             0.5555555555555556,
             "#d8576b"
            ],
            [
             0.6666666666666666,
             "#ed7953"
            ],
            [
             0.7777777777777778,
             "#fb9f3a"
            ],
            [
             0.8888888888888888,
             "#fdca26"
            ],
            [
             1,
             "#f0f921"
            ]
           ],
           "sequentialminus": [
            [
             0,
             "#0d0887"
            ],
            [
             0.1111111111111111,
             "#46039f"
            ],
            [
             0.2222222222222222,
             "#7201a8"
            ],
            [
             0.3333333333333333,
             "#9c179e"
            ],
            [
             0.4444444444444444,
             "#bd3786"
            ],
            [
             0.5555555555555556,
             "#d8576b"
            ],
            [
             0.6666666666666666,
             "#ed7953"
            ],
            [
             0.7777777777777778,
             "#fb9f3a"
            ],
            [
             0.8888888888888888,
             "#fdca26"
            ],
            [
             1,
             "#f0f921"
            ]
           ]
          },
          "colorway": [
           "#636efa",
           "#EF553B",
           "#00cc96",
           "#ab63fa",
           "#FFA15A",
           "#19d3f3",
           "#FF6692",
           "#B6E880",
           "#FF97FF",
           "#FECB52"
          ],
          "font": {
           "color": "#2a3f5f"
          },
          "geo": {
           "bgcolor": "white",
           "lakecolor": "white",
           "landcolor": "#E5ECF6",
           "showlakes": true,
           "showland": true,
           "subunitcolor": "white"
          },
          "hoverlabel": {
           "align": "left"
          },
          "hovermode": "closest",
          "mapbox": {
           "style": "light"
          },
          "paper_bgcolor": "white",
          "plot_bgcolor": "#E5ECF6",
          "polar": {
           "angularaxis": {
            "gridcolor": "white",
            "linecolor": "white",
            "ticks": ""
           },
           "bgcolor": "#E5ECF6",
           "radialaxis": {
            "gridcolor": "white",
            "linecolor": "white",
            "ticks": ""
           }
          },
          "scene": {
           "xaxis": {
            "backgroundcolor": "#E5ECF6",
            "gridcolor": "white",
            "gridwidth": 2,
            "linecolor": "white",
            "showbackground": true,
            "ticks": "",
            "zerolinecolor": "white"
           },
           "yaxis": {
            "backgroundcolor": "#E5ECF6",
            "gridcolor": "white",
            "gridwidth": 2,
            "linecolor": "white",
            "showbackground": true,
            "ticks": "",
            "zerolinecolor": "white"
           },
           "zaxis": {
            "backgroundcolor": "#E5ECF6",
            "gridcolor": "white",
            "gridwidth": 2,
            "linecolor": "white",
            "showbackground": true,
            "ticks": "",
            "zerolinecolor": "white"
           }
          },
          "shapedefaults": {
           "line": {
            "color": "#2a3f5f"
           }
          },
          "ternary": {
           "aaxis": {
            "gridcolor": "white",
            "linecolor": "white",
            "ticks": ""
           },
           "baxis": {
            "gridcolor": "white",
            "linecolor": "white",
            "ticks": ""
           },
           "bgcolor": "#E5ECF6",
           "caxis": {
            "gridcolor": "white",
            "linecolor": "white",
            "ticks": ""
           }
          },
          "title": {
           "x": 0.05
          },
          "xaxis": {
           "automargin": true,
           "gridcolor": "white",
           "linecolor": "white",
           "ticks": "",
           "title": {
            "standoff": 15
           },
           "zerolinecolor": "white",
           "zerolinewidth": 2
          },
          "yaxis": {
           "automargin": true,
           "gridcolor": "white",
           "linecolor": "white",
           "ticks": "",
           "title": {
            "standoff": 15
           },
           "zerolinecolor": "white",
           "zerolinewidth": 2
          }
         }
        },
        "title": {
         "text": "Bane",
         "x": 0.5,
         "y": 0.95
        }
       }
      }
     },
     "metadata": {}
    }
   ],
   "metadata": {}
  },
  {
   "cell_type": "code",
   "execution_count": 40,
   "source": [
    "fig = go.Figure()\r\n",
    "fig.add_trace(\r\n",
    "    go.Scatterpolar(\r\n",
    "        r=list(heroes_df.loc[selected_hero]),\r\n",
    "        theta=target_cols,\r\n",
    "        mode='markers+lines',\r\n",
    "        text=list(selected_hero),\r\n",
    "        textposition=\"top center\",\r\n",
    "        textfont_size=15,\r\n",
    "        fill=\"toself\",\r\n",
    "        fillcolor=\"#008FD3\",\r\n",
    "        line=dict(color=\"#F0AB00\"),\r\n",
    "        marker=dict(color=\"#AB7A00\",size=5),\r\n",
    "        opacity=0.5,\r\n",
    "        name=selected_hero\r\n",
    "    )\r\n",
    ")\r\n",
    "fig.update_traces(hovertemplate='%{theta}' + '<br>Value:%{r:.2f}</br>', selector=dict(type='scatterpolar'))\r\n",
    "fig.update_layout(title=dict(text=selected_hero,x=0.5,y=0.95))\r\n",
    "fig"
   ],
   "outputs": [
    {
     "output_type": "display_data",
     "data": {
      "application/vnd.plotly.v1+json": {
       "config": {
        "plotlyServerURL": "https://plot.ly"
       },
       "data": [
        {
         "fill": "toself",
         "fillcolor": "#008FD3",
         "hovertemplate": "%{theta}<br>Value:%{r:.2f}</br>",
         "line": {
          "color": "#F0AB00"
         },
         "marker": {
          "color": "#AB7A00",
          "size": 5
         },
         "mode": "markers+lines",
         "name": "Anti-Mage",
         "opacity": 0.5,
         "r": [
          0.5833333333333334,
          0.18918918918918926,
          0.5833333333333334,
          0.33333333333333326,
          0.4444444444444444,
          0.37037037037037035,
          0.5833333333333334,
          0.7058823529411765,
          0,
          0.032258064516129066,
          0.6363636363636362,
          0.19047619047619047
         ],
         "text": [
          "A",
          "n",
          "t",
          "i",
          "-",
          "M",
          "a",
          "g",
          "e"
         ],
         "textfont": {
          "size": 15
         },
         "textposition": "top center",
         "theta": [
          "health",
          "health_regen",
          "mana",
          "mana_regen",
          "armor",
          "attack_min",
          "base_str",
          "base_agi",
          "base_int",
          "str_gain",
          "agi_gain",
          "int_gain"
         ],
         "type": "scatterpolar"
        }
       ],
       "layout": {
        "template": {
         "data": {
          "bar": [
           {
            "error_x": {
             "color": "#2a3f5f"
            },
            "error_y": {
             "color": "#2a3f5f"
            },
            "marker": {
             "line": {
              "color": "#E5ECF6",
              "width": 0.5
             },
             "pattern": {
              "fillmode": "overlay",
              "size": 10,
              "solidity": 0.2
             }
            },
            "type": "bar"
           }
          ],
          "barpolar": [
           {
            "marker": {
             "line": {
              "color": "#E5ECF6",
              "width": 0.5
             },
             "pattern": {
              "fillmode": "overlay",
              "size": 10,
              "solidity": 0.2
             }
            },
            "type": "barpolar"
           }
          ],
          "carpet": [
           {
            "aaxis": {
             "endlinecolor": "#2a3f5f",
             "gridcolor": "white",
             "linecolor": "white",
             "minorgridcolor": "white",
             "startlinecolor": "#2a3f5f"
            },
            "baxis": {
             "endlinecolor": "#2a3f5f",
             "gridcolor": "white",
             "linecolor": "white",
             "minorgridcolor": "white",
             "startlinecolor": "#2a3f5f"
            },
            "type": "carpet"
           }
          ],
          "choropleth": [
           {
            "colorbar": {
             "outlinewidth": 0,
             "ticks": ""
            },
            "type": "choropleth"
           }
          ],
          "contour": [
           {
            "colorbar": {
             "outlinewidth": 0,
             "ticks": ""
            },
            "colorscale": [
             [
              0,
              "#0d0887"
             ],
             [
              0.1111111111111111,
              "#46039f"
             ],
             [
              0.2222222222222222,
              "#7201a8"
             ],
             [
              0.3333333333333333,
              "#9c179e"
             ],
             [
              0.4444444444444444,
              "#bd3786"
             ],
             [
              0.5555555555555556,
              "#d8576b"
             ],
             [
              0.6666666666666666,
              "#ed7953"
             ],
             [
              0.7777777777777778,
              "#fb9f3a"
             ],
             [
              0.8888888888888888,
              "#fdca26"
             ],
             [
              1,
              "#f0f921"
             ]
            ],
            "type": "contour"
           }
          ],
          "contourcarpet": [
           {
            "colorbar": {
             "outlinewidth": 0,
             "ticks": ""
            },
            "type": "contourcarpet"
           }
          ],
          "heatmap": [
           {
            "colorbar": {
             "outlinewidth": 0,
             "ticks": ""
            },
            "colorscale": [
             [
              0,
              "#0d0887"
             ],
             [
              0.1111111111111111,
              "#46039f"
             ],
             [
              0.2222222222222222,
              "#7201a8"
             ],
             [
              0.3333333333333333,
              "#9c179e"
             ],
             [
              0.4444444444444444,
              "#bd3786"
             ],
             [
              0.5555555555555556,
              "#d8576b"
             ],
             [
              0.6666666666666666,
              "#ed7953"
             ],
             [
              0.7777777777777778,
              "#fb9f3a"
             ],
             [
              0.8888888888888888,
              "#fdca26"
             ],
             [
              1,
              "#f0f921"
             ]
            ],
            "type": "heatmap"
           }
          ],
          "heatmapgl": [
           {
            "colorbar": {
             "outlinewidth": 0,
             "ticks": ""
            },
            "colorscale": [
             [
              0,
              "#0d0887"
             ],
             [
              0.1111111111111111,
              "#46039f"
             ],
             [
              0.2222222222222222,
              "#7201a8"
             ],
             [
              0.3333333333333333,
              "#9c179e"
             ],
             [
              0.4444444444444444,
              "#bd3786"
             ],
             [
              0.5555555555555556,
              "#d8576b"
             ],
             [
              0.6666666666666666,
              "#ed7953"
             ],
             [
              0.7777777777777778,
              "#fb9f3a"
             ],
             [
              0.8888888888888888,
              "#fdca26"
             ],
             [
              1,
              "#f0f921"
             ]
            ],
            "type": "heatmapgl"
           }
          ],
          "histogram": [
           {
            "marker": {
             "pattern": {
              "fillmode": "overlay",
              "size": 10,
              "solidity": 0.2
             }
            },
            "type": "histogram"
           }
          ],
          "histogram2d": [
           {
            "colorbar": {
             "outlinewidth": 0,
             "ticks": ""
            },
            "colorscale": [
             [
              0,
              "#0d0887"
             ],
             [
              0.1111111111111111,
              "#46039f"
             ],
             [
              0.2222222222222222,
              "#7201a8"
             ],
             [
              0.3333333333333333,
              "#9c179e"
             ],
             [
              0.4444444444444444,
              "#bd3786"
             ],
             [
              0.5555555555555556,
              "#d8576b"
             ],
             [
              0.6666666666666666,
              "#ed7953"
             ],
             [
              0.7777777777777778,
              "#fb9f3a"
             ],
             [
              0.8888888888888888,
              "#fdca26"
             ],
             [
              1,
              "#f0f921"
             ]
            ],
            "type": "histogram2d"
           }
          ],
          "histogram2dcontour": [
           {
            "colorbar": {
             "outlinewidth": 0,
             "ticks": ""
            },
            "colorscale": [
             [
              0,
              "#0d0887"
             ],
             [
              0.1111111111111111,
              "#46039f"
             ],
             [
              0.2222222222222222,
              "#7201a8"
             ],
             [
              0.3333333333333333,
              "#9c179e"
             ],
             [
              0.4444444444444444,
              "#bd3786"
             ],
             [
              0.5555555555555556,
              "#d8576b"
             ],
             [
              0.6666666666666666,
              "#ed7953"
             ],
             [
              0.7777777777777778,
              "#fb9f3a"
             ],
             [
              0.8888888888888888,
              "#fdca26"
             ],
             [
              1,
              "#f0f921"
             ]
            ],
            "type": "histogram2dcontour"
           }
          ],
          "mesh3d": [
           {
            "colorbar": {
             "outlinewidth": 0,
             "ticks": ""
            },
            "type": "mesh3d"
           }
          ],
          "parcoords": [
           {
            "line": {
             "colorbar": {
              "outlinewidth": 0,
              "ticks": ""
             }
            },
            "type": "parcoords"
           }
          ],
          "pie": [
           {
            "automargin": true,
            "type": "pie"
           }
          ],
          "scatter": [
           {
            "marker": {
             "colorbar": {
              "outlinewidth": 0,
              "ticks": ""
             }
            },
            "type": "scatter"
           }
          ],
          "scatter3d": [
           {
            "line": {
             "colorbar": {
              "outlinewidth": 0,
              "ticks": ""
             }
            },
            "marker": {
             "colorbar": {
              "outlinewidth": 0,
              "ticks": ""
             }
            },
            "type": "scatter3d"
           }
          ],
          "scattercarpet": [
           {
            "marker": {
             "colorbar": {
              "outlinewidth": 0,
              "ticks": ""
             }
            },
            "type": "scattercarpet"
           }
          ],
          "scattergeo": [
           {
            "marker": {
             "colorbar": {
              "outlinewidth": 0,
              "ticks": ""
             }
            },
            "type": "scattergeo"
           }
          ],
          "scattergl": [
           {
            "marker": {
             "colorbar": {
              "outlinewidth": 0,
              "ticks": ""
             }
            },
            "type": "scattergl"
           }
          ],
          "scattermapbox": [
           {
            "marker": {
             "colorbar": {
              "outlinewidth": 0,
              "ticks": ""
             }
            },
            "type": "scattermapbox"
           }
          ],
          "scatterpolar": [
           {
            "marker": {
             "colorbar": {
              "outlinewidth": 0,
              "ticks": ""
             }
            },
            "type": "scatterpolar"
           }
          ],
          "scatterpolargl": [
           {
            "marker": {
             "colorbar": {
              "outlinewidth": 0,
              "ticks": ""
             }
            },
            "type": "scatterpolargl"
           }
          ],
          "scatterternary": [
           {
            "marker": {
             "colorbar": {
              "outlinewidth": 0,
              "ticks": ""
             }
            },
            "type": "scatterternary"
           }
          ],
          "surface": [
           {
            "colorbar": {
             "outlinewidth": 0,
             "ticks": ""
            },
            "colorscale": [
             [
              0,
              "#0d0887"
             ],
             [
              0.1111111111111111,
              "#46039f"
             ],
             [
              0.2222222222222222,
              "#7201a8"
             ],
             [
              0.3333333333333333,
              "#9c179e"
             ],
             [
              0.4444444444444444,
              "#bd3786"
             ],
             [
              0.5555555555555556,
              "#d8576b"
             ],
             [
              0.6666666666666666,
              "#ed7953"
             ],
             [
              0.7777777777777778,
              "#fb9f3a"
             ],
             [
              0.8888888888888888,
              "#fdca26"
             ],
             [
              1,
              "#f0f921"
             ]
            ],
            "type": "surface"
           }
          ],
          "table": [
           {
            "cells": {
             "fill": {
              "color": "#EBF0F8"
             },
             "line": {
              "color": "white"
             }
            },
            "header": {
             "fill": {
              "color": "#C8D4E3"
             },
             "line": {
              "color": "white"
             }
            },
            "type": "table"
           }
          ]
         },
         "layout": {
          "annotationdefaults": {
           "arrowcolor": "#2a3f5f",
           "arrowhead": 0,
           "arrowwidth": 1
          },
          "autotypenumbers": "strict",
          "coloraxis": {
           "colorbar": {
            "outlinewidth": 0,
            "ticks": ""
           }
          },
          "colorscale": {
           "diverging": [
            [
             0,
             "#8e0152"
            ],
            [
             0.1,
             "#c51b7d"
            ],
            [
             0.2,
             "#de77ae"
            ],
            [
             0.3,
             "#f1b6da"
            ],
            [
             0.4,
             "#fde0ef"
            ],
            [
             0.5,
             "#f7f7f7"
            ],
            [
             0.6,
             "#e6f5d0"
            ],
            [
             0.7,
             "#b8e186"
            ],
            [
             0.8,
             "#7fbc41"
            ],
            [
             0.9,
             "#4d9221"
            ],
            [
             1,
             "#276419"
            ]
           ],
           "sequential": [
            [
             0,
             "#0d0887"
            ],
            [
             0.1111111111111111,
             "#46039f"
            ],
            [
             0.2222222222222222,
             "#7201a8"
            ],
            [
             0.3333333333333333,
             "#9c179e"
            ],
            [
             0.4444444444444444,
             "#bd3786"
            ],
            [
             0.5555555555555556,
             "#d8576b"
            ],
            [
             0.6666666666666666,
             "#ed7953"
            ],
            [
             0.7777777777777778,
             "#fb9f3a"
            ],
            [
             0.8888888888888888,
             "#fdca26"
            ],
            [
             1,
             "#f0f921"
            ]
           ],
           "sequentialminus": [
            [
             0,
             "#0d0887"
            ],
            [
             0.1111111111111111,
             "#46039f"
            ],
            [
             0.2222222222222222,
             "#7201a8"
            ],
            [
             0.3333333333333333,
             "#9c179e"
            ],
            [
             0.4444444444444444,
             "#bd3786"
            ],
            [
             0.5555555555555556,
             "#d8576b"
            ],
            [
             0.6666666666666666,
             "#ed7953"
            ],
            [
             0.7777777777777778,
             "#fb9f3a"
            ],
            [
             0.8888888888888888,
             "#fdca26"
            ],
            [
             1,
             "#f0f921"
            ]
           ]
          },
          "colorway": [
           "#636efa",
           "#EF553B",
           "#00cc96",
           "#ab63fa",
           "#FFA15A",
           "#19d3f3",
           "#FF6692",
           "#B6E880",
           "#FF97FF",
           "#FECB52"
          ],
          "font": {
           "color": "#2a3f5f"
          },
          "geo": {
           "bgcolor": "white",
           "lakecolor": "white",
           "landcolor": "#E5ECF6",
           "showlakes": true,
           "showland": true,
           "subunitcolor": "white"
          },
          "hoverlabel": {
           "align": "left"
          },
          "hovermode": "closest",
          "mapbox": {
           "style": "light"
          },
          "paper_bgcolor": "white",
          "plot_bgcolor": "#E5ECF6",
          "polar": {
           "angularaxis": {
            "gridcolor": "white",
            "linecolor": "white",
            "ticks": ""
           },
           "bgcolor": "#E5ECF6",
           "radialaxis": {
            "gridcolor": "white",
            "linecolor": "white",
            "ticks": ""
           }
          },
          "scene": {
           "xaxis": {
            "backgroundcolor": "#E5ECF6",
            "gridcolor": "white",
            "gridwidth": 2,
            "linecolor": "white",
            "showbackground": true,
            "ticks": "",
            "zerolinecolor": "white"
           },
           "yaxis": {
            "backgroundcolor": "#E5ECF6",
            "gridcolor": "white",
            "gridwidth": 2,
            "linecolor": "white",
            "showbackground": true,
            "ticks": "",
            "zerolinecolor": "white"
           },
           "zaxis": {
            "backgroundcolor": "#E5ECF6",
            "gridcolor": "white",
            "gridwidth": 2,
            "linecolor": "white",
            "showbackground": true,
            "ticks": "",
            "zerolinecolor": "white"
           }
          },
          "shapedefaults": {
           "line": {
            "color": "#2a3f5f"
           }
          },
          "ternary": {
           "aaxis": {
            "gridcolor": "white",
            "linecolor": "white",
            "ticks": ""
           },
           "baxis": {
            "gridcolor": "white",
            "linecolor": "white",
            "ticks": ""
           },
           "bgcolor": "#E5ECF6",
           "caxis": {
            "gridcolor": "white",
            "linecolor": "white",
            "ticks": ""
           }
          },
          "title": {
           "x": 0.05
          },
          "xaxis": {
           "automargin": true,
           "gridcolor": "white",
           "linecolor": "white",
           "ticks": "",
           "title": {
            "standoff": 15
           },
           "zerolinecolor": "white",
           "zerolinewidth": 2
          },
          "yaxis": {
           "automargin": true,
           "gridcolor": "white",
           "linecolor": "white",
           "ticks": "",
           "title": {
            "standoff": 15
           },
           "zerolinecolor": "white",
           "zerolinewidth": 2
          }
         }
        },
        "title": {
         "text": "Anti-Mage",
         "x": 0.5,
         "y": 0.95
        }
       }
      }
     },
     "metadata": {}
    }
   ],
   "metadata": {}
  },
  {
   "cell_type": "code",
   "execution_count": 32,
   "source": [
    "heroes_data.sort_values(by=['base_int'], ascending=False)[['localized_name','base_int']].head(5)"
   ],
   "outputs": [
    {
     "output_type": "execute_result",
     "data": {
      "text/html": [
       "<div>\n",
       "<style scoped>\n",
       "    .dataframe tbody tr th:only-of-type {\n",
       "        vertical-align: middle;\n",
       "    }\n",
       "\n",
       "    .dataframe tbody tr th {\n",
       "        vertical-align: top;\n",
       "    }\n",
       "\n",
       "    .dataframe thead th {\n",
       "        text-align: right;\n",
       "    }\n",
       "</style>\n",
       "<table border=\"1\" class=\"dataframe\">\n",
       "  <thead>\n",
       "    <tr style=\"text-align: right;\">\n",
       "      <th></th>\n",
       "      <th>localized_name</th>\n",
       "      <th>base_int</th>\n",
       "    </tr>\n",
       "  </thead>\n",
       "  <tbody>\n",
       "    <tr>\n",
       "      <th>32</th>\n",
       "      <td>Tinker</td>\n",
       "      <td>30</td>\n",
       "    </tr>\n",
       "    <tr>\n",
       "      <th>74</th>\n",
       "      <td>Outworld Devourer</td>\n",
       "      <td>30</td>\n",
       "    </tr>\n",
       "    <tr>\n",
       "      <th>23</th>\n",
       "      <td>Lina</td>\n",
       "      <td>30</td>\n",
       "    </tr>\n",
       "    <tr>\n",
       "      <th>83</th>\n",
       "      <td>Undying</td>\n",
       "      <td>27</td>\n",
       "    </tr>\n",
       "    <tr>\n",
       "      <th>110</th>\n",
       "      <td>Winter Wyvern</td>\n",
       "      <td>26</td>\n",
       "    </tr>\n",
       "  </tbody>\n",
       "</table>\n",
       "</div>"
      ],
      "text/plain": [
       "        localized_name  base_int\n",
       "32              Tinker        30\n",
       "74   Outworld Devourer        30\n",
       "23                Lina        30\n",
       "83             Undying        27\n",
       "110      Winter Wyvern        26"
      ]
     },
     "metadata": {},
     "execution_count": 32
    }
   ],
   "metadata": {}
  },
  {
   "cell_type": "code",
   "execution_count": 33,
   "source": [
    "heroes_df.sort_values(by=['base_int'], ascending=False)"
   ],
   "outputs": [
    {
     "output_type": "execute_result",
     "data": {
      "text/html": [
       "<div>\n",
       "<style scoped>\n",
       "    .dataframe tbody tr th:only-of-type {\n",
       "        vertical-align: middle;\n",
       "    }\n",
       "\n",
       "    .dataframe tbody tr th {\n",
       "        vertical-align: top;\n",
       "    }\n",
       "\n",
       "    .dataframe thead th {\n",
       "        text-align: right;\n",
       "    }\n",
       "</style>\n",
       "<table border=\"1\" class=\"dataframe\">\n",
       "  <thead>\n",
       "    <tr style=\"text-align: right;\">\n",
       "      <th></th>\n",
       "      <th>hero_id</th>\n",
       "      <th>localized_name</th>\n",
       "      <th>health</th>\n",
       "      <th>health_regen</th>\n",
       "      <th>mana</th>\n",
       "      <th>mana_regen</th>\n",
       "      <th>armor</th>\n",
       "      <th>attack_min</th>\n",
       "      <th>base_str</th>\n",
       "      <th>base_agi</th>\n",
       "      <th>base_int</th>\n",
       "      <th>str_gain</th>\n",
       "      <th>agi_gain</th>\n",
       "      <th>int_gain</th>\n",
       "    </tr>\n",
       "  </thead>\n",
       "  <tbody>\n",
       "    <tr>\n",
       "      <th>32</th>\n",
       "      <td>34</td>\n",
       "      <td>Tinker</td>\n",
       "      <td>0.166667</td>\n",
       "      <td>0.027027</td>\n",
       "      <td>0.166667</td>\n",
       "      <td>0.666667</td>\n",
       "      <td>0.444444</td>\n",
       "      <td>0.388889</td>\n",
       "      <td>0.166667</td>\n",
       "      <td>0.382353</td>\n",
       "      <td>1.000000</td>\n",
       "      <td>0.322581</td>\n",
       "      <td>0.272727</td>\n",
       "      <td>0.547619</td>\n",
       "    </tr>\n",
       "    <tr>\n",
       "      <th>74</th>\n",
       "      <td>76</td>\n",
       "      <td>Outworld Devourer</td>\n",
       "      <td>0.416667</td>\n",
       "      <td>0.324324</td>\n",
       "      <td>0.416667</td>\n",
       "      <td>0.250000</td>\n",
       "      <td>0.666667</td>\n",
       "      <td>0.296296</td>\n",
       "      <td>0.416667</td>\n",
       "      <td>0.647059</td>\n",
       "      <td>1.000000</td>\n",
       "      <td>0.451613</td>\n",
       "      <td>0.363636</td>\n",
       "      <td>0.761905</td>\n",
       "    </tr>\n",
       "    <tr>\n",
       "      <th>23</th>\n",
       "      <td>25</td>\n",
       "      <td>Lina</td>\n",
       "      <td>0.333333</td>\n",
       "      <td>0.081081</td>\n",
       "      <td>0.333333</td>\n",
       "      <td>0.166667</td>\n",
       "      <td>0.444444</td>\n",
       "      <td>0.333333</td>\n",
       "      <td>0.333333</td>\n",
       "      <td>0.676471</td>\n",
       "      <td>1.000000</td>\n",
       "      <td>0.290323</td>\n",
       "      <td>0.477273</td>\n",
       "      <td>0.642857</td>\n",
       "    </tr>\n",
       "    <tr>\n",
       "      <th>83</th>\n",
       "      <td>85</td>\n",
       "      <td>Undying</td>\n",
       "      <td>0.500000</td>\n",
       "      <td>0.162162</td>\n",
       "      <td>0.500000</td>\n",
       "      <td>0.250000</td>\n",
       "      <td>0.333333</td>\n",
       "      <td>0.444444</td>\n",
       "      <td>0.500000</td>\n",
       "      <td>0.294118</td>\n",
       "      <td>0.833333</td>\n",
       "      <td>0.419355</td>\n",
       "      <td>0.272727</td>\n",
       "      <td>0.428571</td>\n",
       "    </tr>\n",
       "    <tr>\n",
       "      <th>110</th>\n",
       "      <td>112</td>\n",
       "      <td>Winter Wyvern</td>\n",
       "      <td>0.666667</td>\n",
       "      <td>0.216216</td>\n",
       "      <td>0.666667</td>\n",
       "      <td>0.333333</td>\n",
       "      <td>0.333333</td>\n",
       "      <td>0.129630</td>\n",
       "      <td>0.666667</td>\n",
       "      <td>0.470588</td>\n",
       "      <td>0.777778</td>\n",
       "      <td>0.354839</td>\n",
       "      <td>0.386364</td>\n",
       "      <td>0.619048</td>\n",
       "    </tr>\n",
       "    <tr>\n",
       "      <th>...</th>\n",
       "      <td>...</td>\n",
       "      <td>...</td>\n",
       "      <td>...</td>\n",
       "      <td>...</td>\n",
       "      <td>...</td>\n",
       "      <td>...</td>\n",
       "      <td>...</td>\n",
       "      <td>...</td>\n",
       "      <td>...</td>\n",
       "      <td>...</td>\n",
       "      <td>...</td>\n",
       "      <td>...</td>\n",
       "      <td>...</td>\n",
       "      <td>...</td>\n",
       "    </tr>\n",
       "    <tr>\n",
       "      <th>69</th>\n",
       "      <td>71</td>\n",
       "      <td>Spirit Breaker</td>\n",
       "      <td>0.916667</td>\n",
       "      <td>0.567568</td>\n",
       "      <td>0.916667</td>\n",
       "      <td>0.500000</td>\n",
       "      <td>0.555556</td>\n",
       "      <td>0.462963</td>\n",
       "      <td>0.916667</td>\n",
       "      <td>0.500000</td>\n",
       "      <td>0.111111</td>\n",
       "      <td>0.483871</td>\n",
       "      <td>0.386364</td>\n",
       "      <td>0.190476</td>\n",
       "    </tr>\n",
       "    <tr>\n",
       "      <th>30</th>\n",
       "      <td>32</td>\n",
       "      <td>Riki</td>\n",
       "      <td>0.166667</td>\n",
       "      <td>0.648649</td>\n",
       "      <td>0.166667</td>\n",
       "      <td>0.083333</td>\n",
       "      <td>0.666667</td>\n",
       "      <td>0.481481</td>\n",
       "      <td>0.166667</td>\n",
       "      <td>0.529412</td>\n",
       "      <td>0.111111</td>\n",
       "      <td>0.290323</td>\n",
       "      <td>0.318182</td>\n",
       "      <td>0.071429</td>\n",
       "    </tr>\n",
       "    <tr>\n",
       "      <th>78</th>\n",
       "      <td>80</td>\n",
       "      <td>Lone Druid</td>\n",
       "      <td>0.166667</td>\n",
       "      <td>0.027027</td>\n",
       "      <td>0.166667</td>\n",
       "      <td>0.083333</td>\n",
       "      <td>0.111111</td>\n",
       "      <td>0.092593</td>\n",
       "      <td>0.166667</td>\n",
       "      <td>0.588235</td>\n",
       "      <td>0.055556</td>\n",
       "      <td>0.322581</td>\n",
       "      <td>0.636364</td>\n",
       "      <td>0.095238</td>\n",
       "    </tr>\n",
       "    <tr>\n",
       "      <th>93</th>\n",
       "      <td>95</td>\n",
       "      <td>Troll Warlord</td>\n",
       "      <td>0.416667</td>\n",
       "      <td>0.135135</td>\n",
       "      <td>0.416667</td>\n",
       "      <td>0.250000</td>\n",
       "      <td>0.222222</td>\n",
       "      <td>0.277778</td>\n",
       "      <td>0.416667</td>\n",
       "      <td>0.617647</td>\n",
       "      <td>0.055556</td>\n",
       "      <td>0.322581</td>\n",
       "      <td>0.750000</td>\n",
       "      <td>0.000000</td>\n",
       "    </tr>\n",
       "    <tr>\n",
       "      <th>0</th>\n",
       "      <td>1</td>\n",
       "      <td>Anti-Mage</td>\n",
       "      <td>0.583333</td>\n",
       "      <td>0.189189</td>\n",
       "      <td>0.583333</td>\n",
       "      <td>0.333333</td>\n",
       "      <td>0.444444</td>\n",
       "      <td>0.370370</td>\n",
       "      <td>0.583333</td>\n",
       "      <td>0.705882</td>\n",
       "      <td>0.000000</td>\n",
       "      <td>0.032258</td>\n",
       "      <td>0.636364</td>\n",
       "      <td>0.190476</td>\n",
       "    </tr>\n",
       "  </tbody>\n",
       "</table>\n",
       "<p>121 rows × 14 columns</p>\n",
       "</div>"
      ],
      "text/plain": [
       "     hero_id     localized_name    health  health_regen      mana  mana_regen  \\\n",
       "32        34             Tinker  0.166667      0.027027  0.166667    0.666667   \n",
       "74        76  Outworld Devourer  0.416667      0.324324  0.416667    0.250000   \n",
       "23        25               Lina  0.333333      0.081081  0.333333    0.166667   \n",
       "83        85            Undying  0.500000      0.162162  0.500000    0.250000   \n",
       "110      112      Winter Wyvern  0.666667      0.216216  0.666667    0.333333   \n",
       "..       ...                ...       ...           ...       ...         ...   \n",
       "69        71     Spirit Breaker  0.916667      0.567568  0.916667    0.500000   \n",
       "30        32               Riki  0.166667      0.648649  0.166667    0.083333   \n",
       "78        80         Lone Druid  0.166667      0.027027  0.166667    0.083333   \n",
       "93        95      Troll Warlord  0.416667      0.135135  0.416667    0.250000   \n",
       "0          1          Anti-Mage  0.583333      0.189189  0.583333    0.333333   \n",
       "\n",
       "        armor  attack_min  base_str  base_agi  base_int  str_gain  agi_gain  \\\n",
       "32   0.444444    0.388889  0.166667  0.382353  1.000000  0.322581  0.272727   \n",
       "74   0.666667    0.296296  0.416667  0.647059  1.000000  0.451613  0.363636   \n",
       "23   0.444444    0.333333  0.333333  0.676471  1.000000  0.290323  0.477273   \n",
       "83   0.333333    0.444444  0.500000  0.294118  0.833333  0.419355  0.272727   \n",
       "110  0.333333    0.129630  0.666667  0.470588  0.777778  0.354839  0.386364   \n",
       "..        ...         ...       ...       ...       ...       ...       ...   \n",
       "69   0.555556    0.462963  0.916667  0.500000  0.111111  0.483871  0.386364   \n",
       "30   0.666667    0.481481  0.166667  0.529412  0.111111  0.290323  0.318182   \n",
       "78   0.111111    0.092593  0.166667  0.588235  0.055556  0.322581  0.636364   \n",
       "93   0.222222    0.277778  0.416667  0.617647  0.055556  0.322581  0.750000   \n",
       "0    0.444444    0.370370  0.583333  0.705882  0.000000  0.032258  0.636364   \n",
       "\n",
       "     int_gain  \n",
       "32   0.547619  \n",
       "74   0.761905  \n",
       "23   0.642857  \n",
       "83   0.428571  \n",
       "110  0.619048  \n",
       "..        ...  \n",
       "69   0.190476  \n",
       "30   0.071429  \n",
       "78   0.095238  \n",
       "93   0.000000  \n",
       "0    0.190476  \n",
       "\n",
       "[121 rows x 14 columns]"
      ]
     },
     "metadata": {},
     "execution_count": 33
    }
   ],
   "metadata": {}
  },
  {
   "cell_type": "code",
   "execution_count": 34,
   "source": [
    "N = 10\r\n",
    "tail10 = winrate.iloc[:N]\r\n",
    "head10 = winrate.iloc[-N:]\r\n",
    "\r\n",
    "fig, ax1 = plt.subplots()\r\n",
    "ax2 = ax1.twiny()\r\n",
    "\r\n",
    "ax1.bar(range(N), 100 * head10.values)\r\n",
    "ax1.bar(range(N), 100 * tail10.values)\r\n",
    "\r\n",
    "ax1.set_xticks(range(N))\r\n",
    "ax1.set_xticklabels(convert2name(tail10.index))\r\n",
    "ax2.set_xlim(ax1.get_xlim())\r\n",
    "ax2.set_xticks(range(N))\r\n",
    "ax2.set_xticklabels(convert2name(head10.index))\r\n",
    "ax1.tick_params(axis='x', rotation=45)\r\n",
    "ax2.tick_params(axis='x', rotation=45)\r\n",
    "ax1.set_ylabel('winrate')\r\n",
    "\r\n",
    "ax1.set_title('Top/Bottom 10 winrate for last picks in 230821')\r\n",
    "ax1.axhline(y=50, linestyle='--', color='red')\r\n",
    "plt.show()"
   ],
   "outputs": [
    {
     "output_type": "display_data",
     "data": {
      "image/png": "[encoded data removed]",
      "text/plain": [
       "<Figure size 432x288 with 2 Axes>"
      ]
     },
     "metadata": {
      "needs_background": "light"
     }
    }
   ],
   "metadata": {}
  },
  {
   "cell_type": "code",
   "execution_count": 35,
   "source": [
    "tail10"
   ],
   "outputs": [
    {
     "output_type": "execute_result",
     "data": {
      "text/plain": [
       "hero_id\n",
       "106    0.413793\n",
       "74     0.414286\n",
       "17     0.417582\n",
       "10     0.418182\n",
       "76     0.418182\n",
       "8      0.435484\n",
       "13     0.450980\n",
       "34     0.454545\n",
       "114    0.458333\n",
       "41     0.466667\n",
       "Name: win, dtype: float64"
      ]
     },
     "metadata": {},
     "execution_count": 35
    }
   ],
   "metadata": {}
  },
  {
   "cell_type": "code",
   "execution_count": 36,
   "source": [
    "head10"
   ],
   "outputs": [
    {
     "output_type": "execute_result",
     "data": {
      "text/plain": [
       "hero_id\n",
       "12     0.526316\n",
       "126    0.528302\n",
       "75     0.532258\n",
       "46     0.543210\n",
       "93     0.544304\n",
       "59     0.551724\n",
       "67     0.571429\n",
       "94     0.573529\n",
       "1      0.578947\n",
       "22     0.590164\n",
       "Name: win, dtype: float64"
      ]
     },
     "metadata": {},
     "execution_count": 36
    }
   ],
   "metadata": {}
  }
 ],
 "metadata": {
  "orig_nbformat": 4,
  "language_info": {
   "name": "python",
   "version": "3.9.7",
   "mimetype": "text/x-python",
   "codemirror_mode": {
    "name": "ipython",
    "version": 3
   },
   "pygments_lexer": "ipython3",
   "nbconvert_exporter": "python",
   "file_extension": ".py"
  },
  "kernelspec": {
   "name": "python3",
   "display_name": "Python 3.9.7 64-bit (windows store)"
  },
  "interpreter": {
   "hash": "6ea7753b4279582e91abb61a7d947debf8ea5ca7325db9657cfb344ed8481790"
  }
 },
 "nbformat": 4,
 "nbformat_minor": 2
}